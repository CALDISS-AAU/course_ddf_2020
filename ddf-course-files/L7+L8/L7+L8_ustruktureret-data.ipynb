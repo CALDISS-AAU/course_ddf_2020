{
 "cells": [
  {
   "cell_type": "markdown",
   "metadata": {},
   "source": [
    "# Ustruktureret data og text mining i Python\n",
    "\n",
    "<img src=\"warn.png\" width = 400>\n",
    "\n",
    "I dag gives en generel introduktion til web scraping. I vil med disse værktøjer kunne gå direkte i gang med at indsamle data fra forskellige hjemmesider.\n",
    "\n",
    "Legaliteten af web scraping er lidt af en gråzone, så man skal tænke sig om, inden man sætter scraping værktøjer i gang, da man nemt kan komme til at gøre ting, der er i strid med ophavsretsloven eller persondataloven.\n",
    "\n",
    "### Web scraping og ophavsret/brugsbetingelser\n",
    "De data, som virksomheder, organisationer o.l., lægger på hjemmesider, er ejet af disse virksomheder og organisationer. Mange hjemmesider har brugsbetingelser, der forbyder brug af scraping på deres hjemmesider. Dette blandt andet fordi, at man med scraping i princippet kan opstille en hjemmeside, der kopierer indhold direkte fra andre sider. Selvom det ikke er vores hensigt med den type scraping, som vi laver, så vil det stadig blive betragtet som et brud.\n",
    "\n",
    "### Web scraping og persondata\n",
    "Data på sociale medier er en gevaldig gråzone persondata-mæssigt: Er data, som personer frivilligt lægger offentligt på deres sociale medier, stadig deres data? I nogen tilfælde er svaret \"ja\", I andre er det \"nej\".\n",
    "Derudover skal man være opmærksom på, at sider som Facebook, Twitter og Instagram også har betingelser skrevet ind for brug af deres data, da de er dataansvarlige for de data, som lægges op. Ved Facebook og Instagram er det fx ikke tilladt at automatisk indhente deres data.\n",
    "\n",
    "### Web scraping og \"hacking\"\n",
    "En hjemmeside befinder sig på en server. Hver gang en hjemmeside besøges, modtager serveren en henvendelse. Jo flere henvendelser, jo mere belastet bliver serveren. \n",
    "Fordi vi med Python meget nemt kan skrive kode, der gentager en kommando, kan man sende utroligt mange henvendelser på meget kort tid. \n",
    "\n",
    "***Dette vil for det meste bliver betragtet som et angreb og er ulovligt!***"
   ]
  },
  {
   "cell_type": "markdown",
   "metadata": {},
   "source": [
    "# Hvad er ustruktureret data?\n",
    "\n",
    "*Ustruktureret data* er data, som - kort sagt - ikke er sat i system. Hvis data ikke er struktureret, vil man typisk kalde det ustruktureret data. Tekst, billeder og video er typiske eksempler på ustruktureret data, da disse blot er rå information uden nogen måde at adskille en type information fra en anden. Mange moderne dataanalyseteknikker fokuserer på ustruktureret data, hvor man enten udvikler teknikker til at skabe overblik over ustruktureret data eller forsøger at give data en form for struktur.\n",
    "\n",
    "Nedenstående er et eksempel på ustruktureret data:\n",
    "\n",
    "```\n",
    "[\"Hvorfor går man ikke i dialog med ⁦@DRC_dk⁩ i stedet for at opsige kontrakten uden varsel. Er det kun for at føre stærk mand politik? DRC yder en fremragende indsats på baggrund af den opgave de har fået #dkpol https://jyllands-posten.dk/indland/ECE12248020/tesfaye-forsoeger-sig-med-en-ny-loesning-paa-alle-udlaendingeministres-problem/ …\",\n",
    "\"Alle tæller ❤️ https://twitter.com/cekicozlem/status/1276034922587832326 …\",\n",
    "\"Det er så godt arbejde💚 https://twitter.com/fannybroholm/status/1275360842847080449 …\",\n",
    "\"Tilfreds med den klima og energiaftale, der er lavet nu. Det er den første delaftale om at nå 70% reduktion i 2030. Særligt glad for at den indeholder principaftale om en CO2 afgiftsreform #dkpol #dkgreen pic.twitter.com/3slrMxLT5B\",\n",
    "\"Godt første skridt for den fri natur #dkpol #dkgreen ⁦@alternativet_⁩ https://www.altinget.dk/miljoe/artikel/wermelin-lander-aftale-om-de-foerste-naturnationalparker …\",\n",
    "\"Spændende udmelding. ⁦@alternativet_⁩ ønsker også en grøn   Klimaafgift, hvor udgangspunktet er at forureneren betaler #dkgreen #dkpol https://www.altinget.dk/artikel/venstre-og-radikale-laegger-faelles-pres-paa-regeringen-vil-have-ensartet-co2-afgift?SNSubscribed=true&ref=newsletter&refid=fredag-middag-190620&utm_campaign=altingetdk%20Altinget.dk&utm_medium%09=e-mail&utm_source=nyhedsbrev …\",\n",
    "\"Så vigtigt at KL tager ansvar for den proces #dkpol #dkgreen https://www.altinget.dk/miljoe/artikel/professor-om-affaldsaftale-kl-og-kommunerne-skal-gribe-chancen-for-at-loese-tingene-selv …\",\n",
    "\"Hurra - stor dag for Danmark💚👏🏼👏🏼 https://twitter.com/alternativet_/status/1273555055476723713 …\",\n",
    "\"Til klimaforhandlinger i Finansministeriet. Vi sidder og diskuterer rammerne - de næste dage bliver intensive #dkpol #dkgreen @alternativet_ @ Christiansborg Palace  https://www.instagram.com/p/CBi3d0oB9lB/?igshid=ii78cjnx2n72 …\",\n",
    "\"Aftale om mindre affald, mindre forbrænding og mere genbrug - god dag for klimaet og miljøet. 1. skridt i en stor miljøpakke #dkpol ⁦@alternativet_⁩ https://www.dr.dk/nyheder/indland/live-regeringen-praesenterer-ny-aftale-om-affald …\"]\n",
    "```\n",
    "\n",
    "I ovenstående kan man stadig overføre ideen om observationer (i dette tilfælde tweets fra danske politikere), men der er ingen variable eller features givet på forhånd. Der er derfor ingen umiddelbar struktur at gøre brug af for at foretage sig analyser.\n",
    "\n",
    "## Hvorfor er ustruktureret data interessant?\n",
    "\n",
    "En rigtig stor del af det data, som produceres, er ustruktureret. Tænk på hvor meget data, der produceres på hjemmesider, sociale medier o.l. Det meste af dette er i form af tekst; altså ustruktureret. \n",
    "\n",
    "\n",
    "# Text mining og NLP\n",
    "\n",
    "Fordi så meget data er i form af ustruktureret tekst, er der brug for metoder og teknikker til at behandle disse. Disse teknikker og metoder omtales overordnet som \"text mining\" og \"natural language processing\" (NLP). De to termer bruges lidt synonymt. \"Text mining\" er mest et dataanalyse term, mens NLP er en gren af computervidenskab. Groft sagt er forskellen, at NLP er videnskaben/metoder til at få en computer til at forstå tekst, mens \"text mining\" er analyseværktøjerne til at udlede mønstre i tekst."
   ]
  },
  {
   "cell_type": "code",
   "execution_count": 1,
   "metadata": {},
   "outputs": [],
   "source": [
    "# Installer spacy's danske sprogmodel\n",
    "#! python -m spacy download da_core_news_sm"
   ]
  },
  {
   "cell_type": "code",
   "execution_count": 2,
   "metadata": {},
   "outputs": [],
   "source": [
    "# Datahåndtering\n",
    "import numpy as np\n",
    "import pandas as pd\n",
    "\n",
    "# NLP\n",
    "import spacy\n",
    "import string\n",
    "from spacy.tokenizer import Tokenizer\n",
    "\n",
    "# Web scraping\n",
    "from bs4 import BeautifulSoup as bs\n",
    "import requests\n",
    "\n",
    "# Visualisering\n",
    "import matplotlib\n",
    "import matplotlib.pyplot as plt\n",
    "import seaborn as sns\n",
    "from wordcloud import WordCloud\n",
    "\n",
    "# Sæt visualiseringsindstillinger\n",
    "%matplotlib inline\n",
    "sns.set(rc={'figure.figsize':(10,6)})\n",
    "\n",
    "# Indlæs sprogmodel\n",
    "nlp = spacy.load(\"da_core_news_sm\")"
   ]
  },
  {
   "cell_type": "markdown",
   "metadata": {},
   "source": [
    "# Ustruktureret data - et hurtigt overblik\n",
    "\n",
    "Vi starter med et hurtigt eksempel, der gennemgår et typisk workflow med tekst mining (med lidt web scraping blandet ind i):\n",
    "\n",
    "1. Tekst indlæses (her forsiden af TV2 nyheder)\n",
    "2. Tekst udvælges (her selve nyhedsoverskrifterne på forsiden)\n",
    "3. Tekst behandles (\"tokenization\")\n",
    "    - Fjern stopord\n",
    "    - Fjern tegnsætning\n",
    "    - Udvalg af bestemt ordtype\n",
    "4. Analyse foretages (her ordtælling og ordsky-visualisering)\n",
    "\n",
    "Resten af lektionen bruges på at dykke ned i hvert af disse skridt"
   ]
  },
  {
   "cell_type": "markdown",
   "metadata": {},
   "source": [
    "## 1. Tekst indlæses\n",
    "\n",
    "`requests` bruges til at sende en forespørgsel til nyheder.tv2.dk. HTML-indholdet af siden gemmes i et objekt."
   ]
  },
  {
   "cell_type": "code",
   "execution_count": 3,
   "metadata": {},
   "outputs": [],
   "source": [
    "url = \"https://nyheder.tv2.dk/\"\n",
    "url_content = requests.get(url).content"
   ]
  },
  {
   "cell_type": "markdown",
   "metadata": {},
   "source": [
    "## 2. Tekst udvælges\n",
    "\n",
    "`beautifulsoup` bruges til at finde specifikke dele af HTML'en. Her nyhedsoverskrifterne. Nyhedsoverskrifterne sættes derefter sammen til én string."
   ]
  },
  {
   "cell_type": "code",
   "execution_count": 4,
   "metadata": {},
   "outputs": [],
   "source": [
    "tv2_soup = bs(url_content)\n",
    "texts = tv2_soup.find_all(\"a\", class_ = \"o-teaser_link\")\n",
    "texts = [text.get_text() for text in texts]\n",
    "text = ''.join(texts)"
   ]
  },
  {
   "cell_type": "markdown",
   "metadata": {},
   "source": [
    "## 3. Tekst behandles (\"tokenization\")\n",
    "\n",
    "`spacy` bruges til at \"tokenize\" teksten; altså inddelen teksten i enkeltord, som er meningsfulde."
   ]
  },
  {
   "cell_type": "code",
   "execution_count": 5,
   "metadata": {},
   "outputs": [],
   "source": [
    "doc = nlp(text)\n",
    "words = []\n",
    "\n",
    "tokenizer = Tokenizer(nlp.vocab)\n",
    "pos_tag = ['PROPN', 'ADJ', 'NOUN']\n",
    "stopwords = list(nlp.Defaults.stop_words) + [\"LIVE\"]\n",
    "punctuation = string.punctuation + \"”\"\n",
    "\n",
    "for token in doc:\n",
    "    \n",
    "    if(token.text in stopwords or token.text in punctuation):\n",
    "        continue\n",
    "        \n",
    "    if(token.pos_ in pos_tag):\n",
    "        words.append(token.text)"
   ]
  },
  {
   "cell_type": "markdown",
   "metadata": {},
   "source": [
    "## 4. Tekst analyseres\n",
    "\n",
    "Med teksten omdannet til tokens, kan de nu optælles (ved at konvertere dem til en pandas series) og visualiseres.\n",
    "\n",
    "### Ordtælling"
   ]
  },
  {
   "cell_type": "code",
   "execution_count": 6,
   "metadata": {},
   "outputs": [
    {
     "data": {
      "text/plain": [
       "<matplotlib.axes._subplots.AxesSubplot at 0x7fecd8e4d890>"
      ]
     },
     "execution_count": 6,
     "metadata": {},
     "output_type": "execute_result"
    },
    {
     "data": {
      "image/png": "[encoded data removed]",
      "text/plain": [
       "<Figure size 432x288 with 1 Axes>"
      ]
     },
     "metadata": {
      "needs_background": "light"
     },
     "output_type": "display_data"
    }
   ],
   "source": [
    "counts = pd.Series(words).value_counts()\n",
    "counts = counts[counts > 1]\n",
    "\n",
    "counts.plot.bar()"
   ]
  },
  {
   "cell_type": "markdown",
   "metadata": {},
   "source": [
    "### Ordsky\n",
    "\n",
    "Ordene kan også visualiseres i ordsky med pakken `wordcloud`, som også accepterer pandas."
   ]
  },
  {
   "cell_type": "code",
   "execution_count": 7,
   "metadata": {},
   "outputs": [
    {
     "data": {
      "text/plain": [
       "(-0.5, 399.5, 199.5, -0.5)"
      ]
     },
     "execution_count": 7,
     "metadata": {},
     "output_type": "execute_result"
    },
    {
     "data": {
      "image/png": "[encoded data removed]",
      "text/plain": [
       "<Figure size 432x288 with 1 Axes>"
      ]
     },
     "metadata": {
      "needs_background": "light"
     },
     "output_type": "display_data"
    }
   ],
   "source": [
    "wc = WordCloud(background_color=\"white\")\n",
    "wc.fit_words(counts)\n",
    "\n",
    "plt.imshow(wc, interpolation=\"bilinear\")\n",
    "plt.axis(\"off\")"
   ]
  },
  {
   "cell_type": "markdown",
   "metadata": {},
   "source": [
    "# Data fra nettet - Web scraping\n",
    "\n",
    "## Hvad er web scraping?\n",
    "\n",
    "\"Web scraping\" er en paraplybetegnelse for automatiske teknikker til at indsamle information fra internettet (altså indsamling som ikke foregår via en browser).\n",
    "\n",
    "At arbejde med web scraping involverer både at indsamle rådata fra internettet samt behandle og konvertere disse data til et format, som er til at arbejde med. \n",
    "\n",
    "## Hvorfor er web scraping relevant? (for samfundsvidenskaberne)\n",
    "\n",
    "**1. Internettet er i sig selv et relevant genstandsfelt.**\n",
    "\n",
    "Internettet er i dag fuldstændig integreret i vores hverdagsliv. Både information på internettet og vores brug af det giver indblik i vaner, forbrug, interaktion.\n",
    "\n",
    "**2. Internettet er en datakilde**\n",
    "\n",
    "Internettet er en stor samling af information. Vi har brug for teknikker til systematisk at indhente information derfra."
   ]
  },
  {
   "cell_type": "markdown",
   "metadata": {},
   "source": [
    "## Hvad er internettet *egentlig*? \n",
    "\n",
    "For at kunne arbejde med internettet, er det rart at have en grundlæggende forståelse for, hvad internettet egentlig er for en størrelse. \n",
    "\n",
    "Herunder nogen væsentlig punkter.\n",
    "\n",
    "- Internettet: Et global system af forbundede computere og servere.\n",
    "    - \"Internet\" forkortelse for \"interconnected network\"\n",
    "\n",
    "- \"(World Wide) Web\" (WWW): En samling af ressourcer, som er tilgængelige via internettet \n",
    "    - \"Webbet\" kan betragtes som de navigerbare og offentlige dele af internettet\n",
    "\n",
    "- Enhver computer eller server på internettet har et unik id i form af en IP-adresse (127.28.115.253)\n",
    "    - IP: Internet Protocol\n",
    "\n",
    "- Når man tilgår internettet via webbet, kontaktes andre computere og servere for at hente information.\n",
    "\n",
    "- På webbet bruges \"URL'er\" til at give unikke (og læsbare) adresser til serverne.\n",
    "    - URL: Uniform Ressource Locators\n",
    "\n",
    "- Forbindelsen mellem IP-adresser og URL håndteres af DNS servere\n",
    "    - DNS: Domain Name System"
   ]
  },
  {
   "cell_type": "markdown",
   "metadata": {},
   "source": [
    "<img src=\"internet.png\" alt=\"opte\" width=\"600\"/>\n",
    "\n",
    "*Opte Project 2005*"
   ]
  },
  {
   "cell_type": "markdown",
   "metadata": {},
   "source": [
    "## Sådan virker internettet (\"the web\") - Kort fortalt\n",
    "\n",
    "![dns](dns.png)\n",
    "\n",
    "*wpbeginner.com*\n",
    "\n",
    "**Konsekvens: Internettet har ikke en samlet adressebog**\n",
    "\n",
    "Fordi der er flere udbyder af DNS, domæner osv., er der ikke én samlet registrering af alle hjemmesider. Søgemaskiner som Google, DuckDuckGo og Bing skaber derfor deres egen \"telefonbog\" over internettet, så vi kan søge i det. \n",
    "\n",
    "De samme teknikker kan man selv genskabe i form af \"crawlers\" eller \"spiders\""
   ]
  },
  {
   "cell_type": "markdown",
   "metadata": {},
   "source": [
    "## Internettet gennem din browser versus gennem Python\n",
    "\n",
    "### Internettet gennem din browser\n",
    "\n",
    "![browser_img](website_browser.png)\n",
    "\n",
    "Ovenstående er internettet, som I kender det (måske nogen kender den del af internettet lidt for godt). Hvordan ser det ud gennem Python?\n",
    "\n",
    "### Internettet gennem Python"
   ]
  },
  {
   "cell_type": "code",
   "execution_count": 8,
   "metadata": {},
   "outputs": [
    {
     "name": "stdout",
     "output_type": "stream",
     "text": [
      "b'<!DOCTYPE html><html lang=\"en-US\"><head><script>\\n    var __SUPPORTS_TIMING_API = typeof performance === \\'object\\' && !!performance.mark && !! performance.measure && !!performance.getEntriesByType;\\n    function __perfMark(name) { __SUPPORTS_TIMING_API && performance.mark(name); };\\n    var __firstPostLoaded = false;\\n    function __markFirstPostVisible() {\\n      if (__firstPostLoaded) { return; }\\n      __firstPostLoaded = true;\\n      __perfMark(\"first_post_title_image_loaded\");\\n    }\\n    var __firstCommentLoaded = false;\\n    function __markFirstCommentVisible() {\\n      if (__firstCommentLoaded) { return; }\\n      __firstCommentLoaded = true;\\n      __perfMark(\"first_comment_loaded\");\\n    }\\n  </script><script>\\n          __perfMark(\\'head_tag_start\\');\\n        </script><title>reddit: the front page of the internet</title><meta charSet=\"utf-8\"/><meta name=\"robots\" content=\"noindex,nofollow\"/><meta name=\"viewport\" content=\"width=device-width, initial-scale=1\"/><meta name=\"referrer\" content=\"origin-when-cross-origin\"/><style>\\n  /* http://meyerweb.com/eric/tools/css/reset/\\n    v2.0 | 20110126\\n    License: none (public domain)\\n  */\\n\\n  html, body, div, span, applet, object, iframe,\\n  h1, h2, h3, h4, h5, h6, p, blockquote, pre,\\n  a, abbr, acronym, address, big, button, cite, code,\\n  del, dfn, em, img, input, ins, kbd, q, s, samp,\\n  small, strike, strong, sub, sup, tt, var,\\n  b, u, i, center,\\n  dl, dt, dd, ol, ul, li,\\n  fieldset, form, label, legend,\\n  table, caption, tbody, tfoot, thead, tr, th, td,\\n  article, aside, canvas, details, embed,\\n  figure, figcaption, footer, header, hgroup,\\n  menu, nav, output, ruby, section, summary,\\n  time, mark, audio, video {\\n    margin: 0;\\n    padding: 0;\\n    border: 0;\\n    font-size: 100%;\\n    font: inherit;\\n    vertical-align: baseline;\\n  }\\n\\n  /* HTML5 display-role reset for older browsers */\\n  article, aside, details, figcaption, figure,\\n  footer, header, hgroup, menu, nav, section {\\n    display: block;\\n  }\\n  body {\\n    line-height: 1;\\n    font-family: BentonSans, sans-serif;\\n  }\\n  ol, ul {\\n    list-style: none;\\n  }\\n  blockquote, q {\\n    quotes: none;\\n  }\\n  blockquote:before, blockquote:after,\\n  q:before, q:after {\\n    content: \\'\\';\\n    content: none;\\n  }\\n  table {\\n    border-collapse: collapse;\\n    border-spacing: 0;\\n  }\\n  a {\\n    color: inherit;\\n    text-decoration: inherit;\\n  }\\n\\n  html, body {\\n    width: 100%;\\n    margin: 0;\\n  }\\n\\n  /* HTML5 display-role reset for older browsers */\\n  article, aside, details, figcaption, figure,\\n  footer, header, hgroup, menu, nav, section {\\n    display: block;\\n  }\\n\\n  button {\\n    background: transparent;\\n    border: none;\\n    color: inherit;\\n    cursor: pointer;\\n    padding: initial;\\n  }\\n\\n  body {\\n    min-height: calc(100vh - 48px);\\n    line-height: 1;\\n    font-family: IBMPlexSans, Arial, sans-serif;\\n    -webkit-font-smoothing: antialiased;\\n  }\\n\\n  body ::-moz-selection {\\n    background-color: #7dbcff99;\\n  }\\n\\n  input, textarea, [contenteditable] {\\n    \\n  font-family: Noto Sans, Arial, sans-serif;\\n  font-size: 14px;\\n  font-weight: 400;\\n  line-height: 21px;\\n\\n    font-family: inherit;\\n  }\\n</style><style data-href=\"chunkCSS/Reddit~reddit-components-ClassicPost~reddit-components-CompactPost~reddit-components-LargePost~reddi~90fdacc3.9bd02508092bc32a45ea.css\" data-chunk=\"Reddit\">._26bOTAKvGixX5tMC3vGfTv{display:-ms-flexbox;display:flex;-ms-flex-pack:justify;justify-content:space-between}\\n._3nRJIwLuth2pKYrXnr2jPN{width:402px;max-width:100%;box-sizing:border-box}._3nRJIwLuth2pKYrXnr2jPN>*{border-bottom:1px solid var(--newCommunityTheme-line)}@media (max-width:640px){._3nRJIwLuth2pKYrXnr2jPN{width:360px}}\\n._2Gt13AX94UlLxkluAMsZqP{background-position:50%;background-repeat:no-repeat;background-size:contain;position:relative;display:inline-block}\\n@keyframes _1tIZttmhLdrIGrB-6VvZcT{0%{opacity:0}to{opacity:1}}._3uK2I0hi3JFTKnMUFHD2Pd,.HQ2VJViRjokXpRbJzPvvc{--infoTextTooltip-overflow-left:0px;font-size:12px;font-weight:500;line-height:16px;padding:3px 9px;position:absolute;border-radius:4'\n"
     ]
    }
   ],
   "source": [
    "print(requests.get(\"https://www.reddit.com/r/PrequelMemes/\").content[0:4000])"
   ]
  },
  {
   "cell_type": "markdown",
   "metadata": {},
   "source": [
    "Sikke en rodebutik!"
   ]
  },
  {
   "cell_type": "markdown",
   "metadata": {},
   "source": [
    "## Hvad betyder alt det her?\n",
    "\n",
    "Det er værd at være opmærksom på, hvordan internettet egentlig hænger sammen, hvis vi forsøger at gøre noget med data fra det. Typisk er vores indgang til internettet gennem browsere eller apps, hvor alting er sat op sådan, at vi ikke behøver at forholde sig til disse ting.\n",
    "\n",
    "Når vi arbejder med data fra internettet, er det altid data, som ligger et eller andet sted (på en server) ofte i et format, der i sin rå form ikke giver meget mening at arbejde med (rå HTML).\n",
    "\n",
    "Der er derfor både fejlkilder i adgangen til data (forbindelser mellem servere kan svigte - også bare kortvarigt) og i håndteringen af det."
   ]
  },
  {
   "cell_type": "markdown",
   "metadata": {},
   "source": [
    "# Adgang til internettet via Python (`requests`)\n",
    "\n",
    "Pakken `requests` bruges til at sende henvendelser over internettet. Herunder sendes en såkaldt \"GET\" request til nyheder.tv2.dk (når du besæger hjemmesider via en browser, sender din browser også GET requests)."
   ]
  },
  {
   "cell_type": "code",
   "execution_count": 9,
   "metadata": {},
   "outputs": [],
   "source": [
    "import requests\n",
    "\n",
    "url = \"https://nyheder.tv2.dk/\"\n",
    "req = requests.get(url)"
   ]
  },
  {
   "cell_type": "markdown",
   "metadata": {},
   "source": [
    "Kom vi igennem?"
   ]
  },
  {
   "cell_type": "code",
   "execution_count": 10,
   "metadata": {},
   "outputs": [
    {
     "name": "stdout",
     "output_type": "stream",
     "text": [
      "200 OK\n"
     ]
    }
   ],
   "source": [
    "print(str(req.status_code), str(req.reason))"
   ]
  },
  {
   "cell_type": "markdown",
   "metadata": {},
   "source": [
    "Hvad indeholder siden?"
   ]
  },
  {
   "cell_type": "code",
   "execution_count": 11,
   "metadata": {},
   "outputs": [
    {
     "name": "stdout",
     "output_type": "stream",
     "text": [
      "b'<!DOCTYPE html>\\n<html lang=\"da-DK\" class=\"site-nyheder\">\\n<head>\\n\\n  <meta charset=\"utf-8\"/>\\n  <meta http-equiv=\"X-UA-Compatible\" content=\"IE=edge\"/>\\n\\n  <meta name=\"viewport\" content=\"width=device-width,initial-scale=1.0\"/>\\n  <meta name=\"msapplication-TileImage\" content=\"https://shared.tv2.dk/sites/all/themes/t2/img/apple-touch-icon-precomposed.png\"/>\\n  <meta name=\"msapplication-TileColor\" content=\"#fff\"/>\\n  <meta name=\"format-detection\" content=\"telephone=no\"/>\\n  <link rel=\"apple-touch-icon-precomposed\" href=\"https://shared.tv2.dk/sites/all/themes/t2/img/apple-touch-icon-precomposed.png\"/>\\n  <link rel=\"shortcut icon\" href=\"https://shared.tv2.dk/favicon.ico\" />\\n\\n  <!-- inline base CSS -->\\n  <style type=\"text/css\" media=\"screen\">\\n    @charset \"UTF-8\";@font-face{font-family:AlrightSansLT-Regular;src:url(https://shared.tv2.dk/sites/all/themes/t2/fonts/AlrightSansLT-Regular.woff2) format(\"woff2\"),url(https://shared.tv2.dk/sites/all/themes/t2/fonts/AlrightSansLT-Regular.woff) format(\"woff\")}@'\n"
     ]
    }
   ],
   "source": [
    "content = req.content\n",
    "print(content[0:1000])"
   ]
  },
  {
   "cell_type": "markdown",
   "metadata": {},
   "source": [
    "Det, som vi får, er hjemmesidens \"rå\" indhold; altså HTML."
   ]
  },
  {
   "cell_type": "markdown",
   "metadata": {},
   "source": [
    "## En hurtig introduktion til HTML\n",
    "\n",
    "HTML er et helt kodesprog i sig selv og kan tage lang tid at mestre. Vi behøver dog kun et overordnet kendskab til dens opbygning for at kunne navigere i det.\n",
    "\n",
    "- HTML består af \"tags\" afgrænset med `<>`\n",
    "- Tags er altid struktureret i en træ-lignende hierarkisk struktur\n",
    "\n",
    "Herunder en kort HTML string som eksempel:"
   ]
  },
  {
   "cell_type": "code",
   "execution_count": 12,
   "metadata": {},
   "outputs": [],
   "source": [
    "html = '''\n",
    "<html>\n",
    "    <body>\n",
    "        <div id=\"convo1\">\n",
    "            <p class=\"kenobi\">Hello There!</p>\n",
    "        </div>\n",
    "        <div id=\"convo2\">\n",
    "            <p class=\"grievous\">General Kenobi!</p>\n",
    "        </div>\n",
    "        <div id=\"convo3\">\n",
    "            <p class=\"kenobi\">So Uncivilized!</p>\n",
    "        </div>\n",
    "    </body>\n",
    "</html>\n",
    "'''"
   ]
  },
  {
   "cell_type": "code",
   "execution_count": 13,
   "metadata": {},
   "outputs": [
    {
     "name": "stdout",
     "output_type": "stream",
     "text": [
      "\n",
      "<html>\n",
      "    <body>\n",
      "        <div id=\"convo1\">\n",
      "            <p class=\"kenobi\">Hello There!</p>\n",
      "        </div>\n",
      "        <div id=\"convo2\">\n",
      "            <p class=\"grievous\">General Kenobi!</p>\n",
      "        </div>\n",
      "        <div id=\"convo3\">\n",
      "            <p class=\"kenobi\">So Uncivilized!</p>\n",
      "        </div>\n",
      "    </body>\n",
      "</html>\n",
      "\n"
     ]
    }
   ],
   "source": [
    "print(html)"
   ]
  },
  {
   "cell_type": "markdown",
   "metadata": {},
   "source": [
    "### HTML Tags\n",
    "\n",
    "- Tags bruges til at indikere typen af indhold (p: paragraph, h1/h2/h3: heading 1/2/3, a: link, img: billede osv.)\n",
    "- Tags indeholder forskellige \"attributes\":\n",
    "    - Id'er: `<div id=\"div2\">`\n",
    "        - id's er for det meste unikke\n",
    "    - Classes: `<div class=\"class!\">`\n",
    "        - Classes er for det meste ikke unikke\n",
    "    - Andre eksempler: href (link), rel, type, title"
   ]
  },
  {
   "cell_type": "markdown",
   "metadata": {},
   "source": [
    "## Naviger HTML med BeautifulSoup\n",
    "\n",
    "https://www.crummy.com/software/BeautifulSoup/bs4/doc/\n",
    "\n",
    "\"BeautifulSoup\" pakken er udviklet til at navigere i HTML. Den virker ved at omdanne html til et \"soup\"-objekt, hvor man kan pege på specifikke tags og udlede indhold.\n",
    "\n",
    "Herunder omdannes HTML-strengen fra før til et soup objekt."
   ]
  },
  {
   "cell_type": "code",
   "execution_count": 14,
   "metadata": {},
   "outputs": [
    {
     "name": "stdout",
     "output_type": "stream",
     "text": [
      "<html>\n",
      " <body>\n",
      "  <div id=\"convo1\">\n",
      "   <p class=\"kenobi\">\n",
      "    Hello There!\n",
      "   </p>\n",
      "  </div>\n",
      "  <div id=\"convo2\">\n",
      "   <p class=\"grievous\">\n",
      "    General Kenobi!\n",
      "   </p>\n",
      "  </div>\n",
      "  <div id=\"convo3\">\n",
      "   <p class=\"kenobi\">\n",
      "    So Uncivilized!\n",
      "   </p>\n",
      "  </div>\n",
      " </body>\n",
      "</html>\n",
      "\n"
     ]
    }
   ],
   "source": [
    "from bs4 import BeautifulSoup as bs\n",
    "\n",
    "soup = bs(html, \"html.parser\")\n",
    "print(soup.prettify())"
   ]
  },
  {
   "cell_type": "markdown",
   "metadata": {},
   "source": [
    "Det ligner det samme stykke tekst, men der kan nu navigeres efter de forskellige tags.\n",
    "\n",
    "Lad os starte med at se på, hvilke tags der er:"
   ]
  },
  {
   "cell_type": "code",
   "execution_count": 15,
   "metadata": {},
   "outputs": [
    {
     "data": {
      "text/plain": [
       "{'body', 'div', 'html', 'p'}"
      ]
     },
     "execution_count": 15,
     "metadata": {},
     "output_type": "execute_result"
    }
   ],
   "source": [
    "set(tag.name for tag in soup.find_all())"
   ]
  },
  {
   "cell_type": "markdown",
   "metadata": {},
   "source": [
    "For at finde specifikke tags bruges metoderne `.find()` (første match) og `.find_all()` (alle matches). Første argument er tagget, som man leder efter. Man kan derefter specificerer andre argumenter for at indsnævre søgningen."
   ]
  },
  {
   "cell_type": "code",
   "execution_count": 16,
   "metadata": {},
   "outputs": [
    {
     "data": {
      "text/plain": [
       "<p class=\"kenobi\">Hello There!</p>"
      ]
     },
     "execution_count": 16,
     "metadata": {},
     "output_type": "execute_result"
    }
   ],
   "source": [
    "soup.find(\"p\") # Finder første p tag"
   ]
  },
  {
   "cell_type": "code",
   "execution_count": 17,
   "metadata": {},
   "outputs": [
    {
     "data": {
      "text/plain": [
       "[<p class=\"kenobi\">Hello There!</p>,\n",
       " <p class=\"grievous\">General Kenobi!</p>,\n",
       " <p class=\"kenobi\">So Uncivilized!</p>]"
      ]
     },
     "execution_count": 17,
     "metadata": {},
     "output_type": "execute_result"
    }
   ],
   "source": [
    "soup.find_all(\"p\") # Finder alle p tags"
   ]
  },
  {
   "cell_type": "markdown",
   "metadata": {},
   "source": [
    "`.get_text()` henter selve tekst-indholdet, som er inde i tagget (altså mellem `<p>` og `</p>`):"
   ]
  },
  {
   "cell_type": "code",
   "execution_count": 18,
   "metadata": {},
   "outputs": [
    {
     "data": {
      "text/plain": [
       "'Hello There!'"
      ]
     },
     "execution_count": 18,
     "metadata": {},
     "output_type": "execute_result"
    }
   ],
   "source": [
    "soup.find(\"p\").get_text() # Tager teksten ud"
   ]
  },
  {
   "cell_type": "code",
   "execution_count": 19,
   "metadata": {},
   "outputs": [
    {
     "name": "stdout",
     "output_type": "stream",
     "text": [
      "['Hello There!', 'General Kenobi!', 'So Uncivilized!']\n"
     ]
    }
   ],
   "source": [
    "texts = [] # Teksten for alle tags\n",
    "\n",
    "for tag in soup.find_all(\"p\"):\n",
    "    texts.append(tag.get_text())\n",
    "    \n",
    "print(texts)"
   ]
  },
  {
   "cell_type": "markdown",
   "metadata": {},
   "source": [
    "Man kan som nævnt specificerer flere argumenter. `id = ` bruges til at finde et bestemt id, mens `class_ = ` bruges til at finde bestemt class."
   ]
  },
  {
   "cell_type": "code",
   "execution_count": 20,
   "metadata": {},
   "outputs": [
    {
     "data": {
      "text/plain": [
       "'\\nGeneral Kenobi!\\n'"
      ]
     },
     "execution_count": 20,
     "metadata": {},
     "output_type": "execute_result"
    }
   ],
   "source": [
    "soup.find(\"div\", id = \"convo2\").get_text() # Find ud fra bestemt id"
   ]
  },
  {
   "cell_type": "code",
   "execution_count": 21,
   "metadata": {},
   "outputs": [
    {
     "data": {
      "text/plain": [
       "'General Kenobi!'"
      ]
     },
     "execution_count": 21,
     "metadata": {},
     "output_type": "execute_result"
    }
   ],
   "source": [
    "soup.find(\"div\", id = \"convo2\").get_text(strip = True) # Samme ovenstående, men fjerner whitespace (fx \\n som indikerer ny linje)"
   ]
  },
  {
   "cell_type": "code",
   "execution_count": 22,
   "metadata": {},
   "outputs": [
    {
     "data": {
      "text/plain": [
       "'Hello There!'"
      ]
     },
     "execution_count": 22,
     "metadata": {},
     "output_type": "execute_result"
    }
   ],
   "source": [
    "soup.find(\"p\", class_ = \"kenobi\").get_text() # Find ud fra bestemt klasse"
   ]
  },
  {
   "cell_type": "markdown",
   "metadata": {},
   "source": [
    "### Find de rigtige tags\n",
    "\n",
    "At finde de rigtige tags til at finde tekst ud fra kræver lidt forarbejde. Det nemmeste er ved at bruge \"Code Inspector\" funktionen, som findes i de fleste browsere. \n",
    "\n",
    "![inspector](inspector_tv.png)\n",
    "\n",
    "HTML kan være meget rodet, så det involverer ofte at prøve sig lidt frem.\n",
    "\n",
    "Bemærk fx at et tag kan indeholde flere klasser (adskilt med mellemrum). Dog behøver vi kun en af dem, for at matche det med BeautifulSoup.\n",
    "\n",
    "På forsiden af indlandssektionen på nyheder.tv2.dk kan vi se, at overskrifter befinder sig i et `<a>` tag med klassen: `o-teaser_link`.\n",
    "\n",
    "Denne klasse kan vi bruge til at matche overskrifterne.\n",
    "\n",
    "Vi har allerede HTML-indholdet fra nyheder.tv2.dk læst ind som `content`, som vi kan konvertere til et soup-objekt:"
   ]
  },
  {
   "cell_type": "code",
   "execution_count": 23,
   "metadata": {},
   "outputs": [],
   "source": [
    "soup = bs(content)"
   ]
  },
  {
   "cell_type": "markdown",
   "metadata": {},
   "source": [
    "Vi kan derefter udlede overskrifter baseret på klassen.\n",
    "\n",
    "Herunder den første overskrift:"
   ]
  },
  {
   "cell_type": "code",
   "execution_count": 24,
   "metadata": {},
   "outputs": [
    {
     "data": {
      "text/plain": [
       "'Kong Harald opereret i hjertet'"
      ]
     },
     "execution_count": 24,
     "metadata": {},
     "output_type": "execute_result"
    }
   ],
   "source": [
    "soup.find(\"a\", class_ = \"o-teaser_link\").get_text(strip = True)"
   ]
  },
  {
   "cell_type": "markdown",
   "metadata": {},
   "source": [
    "Vi kan med et for loop udlede alle overskrifterne:"
   ]
  },
  {
   "cell_type": "code",
   "execution_count": 25,
   "metadata": {},
   "outputs": [
    {
     "name": "stdout",
     "output_type": "stream",
     "text": [
      "Kong Harald opereret i hjertet\n",
      "CoronavirusTab af sanser er det tydeligste symptom på coronavirus, viser studier\n",
      "USA valg 2020Donald Trump har et nyt bud på, hvordan han fik coronavirus\n",
      "KrimiPoliti søger vidner til knivstikkeri i Aalborg\n",
      "SamfundKnap 700 forskere råber op om sexisme på universiteter\n",
      "UdlandPaludan har fået anerkendt svensk statsborgerskab\n",
      "Krænkelser på arbejdetLotte Rod bad selv Østergaard om at holde sagen hemmelig - indtil hun anklagede ham for at lyve\n",
      "PolitikØstergaards exit var den rigtige beslutning, mener knap halvdelen af danskerne\n",
      "USA valg 2020Donald Trump har et nyt bud på, hvordan han fik coronavirus\n",
      "Krænkelser på arbejdetLotte Rod bad selv Østergaard om at holde sagen hemmelig - indtil hun anklagede ham for at lyve\n",
      "CoronavirusLIVE30 personer bortvist fra bodega\n",
      "PolitikTårer, sang og en penis-joke: Se otte højdepunkter fra åbningsdebatten\n",
      "KrimiRetssag om hadforbrydelse og hærværk mod gravplads begynder\n",
      "Krænkelser på arbejdetLigestillingsminister tager afstand til kritik af Lotte Rod\n",
      "UdlandHvem får Nobels Fredspris i dag? Her er eksperts fem bud\n",
      "USA valg 2020Læge giver grønt lys - Trump vil holde vælgermøde lørdag\n",
      "UdlandRapperen Tory Lanez er sigtet for skud mod kendt sangerinde\n",
      "UdlandKirgistans præsident er klar til at trække sig efter protester\n",
      "PolitikGrønlands Kim Kielsen undgår mistillid i sag om inhabilitet\n",
      "PolitikTårer, sang og en penis-joke: Se otte højdepunkter fra åbningsdebatten\n",
      "NyhederJeg er mester i at skifte fra pige til pige, sagde han – men de endte alligevel i retten\n",
      "Vild med dansHvorfor er der publikum på 'Vild med dans' under corona? Få svar på dine spørgsmål her\n",
      "PolitikTårer, sang og en penis-joke: Se otte højdepunkter fra åbningsdebatten\n",
      "Underholdning'Teori' kendt fra ny dansk film – hvad skal du drikke for at holde promille på 0,5?\n",
      "USA valg 2020Amerikanere strømmer til stemmeboksene i potentielt rekordvalg\n",
      "Krænkelser på arbejdetDerfor blev Morten Østergaard den første, der faldt efter debatten om krænkelser\n",
      "CoronavirusLIVE30 personer bortvist fra bodega\n",
      "NyhederLIGE NUKong Harald opereret i hjertet\n",
      "UdlandAustralsk minister: Grænser er lukkede til slutningen af 2021\n",
      "KrimiTo mænd anholdt i sag om skuddrab på parkeringsplads\n",
      "USA valg 2020Joe Biden giver kold skulder til Donald Trumps udspil om tv-duel\n",
      "UdlandFBI: Milits havde plan om at kidnappe guvernør\n",
      "TV 2 PlayFå seneste nyt på TV 2 NEWSKL. 23.58 - 23.57\n",
      "TV 2 PlayDerfor er kampen om præsidentposten kampen om svingstaterneEXPLAINER\n",
      "TV 2 PlayHvad betyder præsidentvalget for dansk eksport?Business Class\n",
      "TV 2 PlayØstergaard krænkede kollega og går som leder - hvad nu?Lippert\n",
      "TV 2 PlaySe et sammendrag af debatten mellem Pence og HarrisValg i USA\n",
      "TV 2 PlayHvad var de vigtigste punkter i statsministerens åbningstale?Tirsdagsanalysen\n",
      "TV 2 PlayMorten Østergaard krænkede partifælle - nu går han som politisk lederPressemøder og taler\n",
      "TV 2 PlayFå et unikt indblik i tankerne bag Sikandar Siddique og Uffe Elbæks nye partiMinidoks\n",
      "TV 2 PlayNoor legede på motorvej med dansk politibetjent - hvad skete der med hende?Minidoks\n",
      "USA valg 2020Donald Trump har et nyt bud på, hvordan han fik coronavirus\n",
      "USA valg 2020Læge giver grønt lys - Trump vil holde vælgermøde lørdag\n",
      "PolitikØstergaards exit var den rigtige beslutning, mener knap halvdelen af danskerne\n",
      "Formel 1Magnussen ser frem til ‘ny bane’, han tidligere har nydt at køre på\n",
      "MountainbikeAnnika Langvad stopper karrieren\n",
      "CoronavirusTab af sanser er det tydeligste symptom på coronavirus, viser studier\n",
      "UdlandHvem får Nobels Fredspris i dag? Her er eksperts fem bud\n",
      "Fodbold\"Alt ligger i ruiner\" - norske medier giver landsholdet hård medfart efter fiasko\n",
      "Krænkelser på arbejdetDerfor blev Morten Østergaard den første, der faldt efter debatten om krænkelser\n"
     ]
    }
   ],
   "source": [
    "for tag in soup.find_all(\"a\", class_ = \"o-teaser_link\"):\n",
    "    print(tag.get_text(strip=True))"
   ]
  },
  {
   "cell_type": "markdown",
   "metadata": {},
   "source": [
    "### Hvad med links?\n",
    "\n",
    "Ofte i web scraping kan det give mening at indsamle links. På den måde kan man sætte \"crawlers\" op, der ...\n",
    "1. Går til en hjemmeside\n",
    "2. Indsamler indhold\n",
    "3. Indsamler links\n",
    "4. Indsamler indhold på hver side, som der linkes til\n",
    "5. (gentag)\n",
    "\n",
    "Links er altid med et `<a>` tag i en attribut `href`. Et tag kan have flere attributes (`id` og `class` er fx attributes). Med et soup objekt for et bestemt tag, kan man udlede et bestemt attribut med `[]`:"
   ]
  },
  {
   "cell_type": "code",
   "execution_count": 26,
   "metadata": {},
   "outputs": [
    {
     "data": {
      "text/plain": [
       "'/2020-10-09-lige-nu'"
      ]
     },
     "execution_count": 26,
     "metadata": {},
     "output_type": "execute_result"
    }
   ],
   "source": [
    "soup.find(\"a\", class_ = \"o-teaser_link\")['href']"
   ]
  },
  {
   "cell_type": "markdown",
   "metadata": {},
   "source": [
    "Der er i ovenstående tale om et relativt link (et, der bygger videre på hovedadressen: https://nyheder.tv2.dk/), så vi kan færdiggøre linket ved at paste det sammen:"
   ]
  },
  {
   "cell_type": "code",
   "execution_count": 27,
   "metadata": {},
   "outputs": [
    {
     "data": {
      "text/plain": [
       "'https://nyheder.tv2.dk/2020-10-09-lige-nu'"
      ]
     },
     "execution_count": 27,
     "metadata": {},
     "output_type": "execute_result"
    }
   ],
   "source": [
    "\"https://nyheder.tv2.dk\" + soup.find(\"a\", class_ = \"o-teaser_link\")['href']"
   ]
  },
  {
   "cell_type": "markdown",
   "metadata": {},
   "source": [
    "Hvis vi ser på selve HTML indholdet af et tag for en overskrift kan vi se, at der også er et title attribute:"
   ]
  },
  {
   "cell_type": "code",
   "execution_count": 28,
   "metadata": {},
   "outputs": [
    {
     "data": {
      "text/plain": [
       "<a class=\"o-teaser_link\" href=\"/2020-10-09-lige-nu\" title=\"Kong Harald opereret i hjertet\">\n",
       "<header class=\"o-teaser_header\">\n",
       "<h2 class=\"o-teaser_headline font-h4\">\n",
       "\n",
       "           Kong Harald opereret i hjertet\n",
       "          </h2>\n",
       "</header>\n",
       "</a>"
      ]
     },
     "execution_count": 28,
     "metadata": {},
     "output_type": "execute_result"
    }
   ],
   "source": [
    "soup.find(\"a\", class_ = \"o-teaser_link\")"
   ]
  },
  {
   "cell_type": "markdown",
   "metadata": {},
   "source": [
    "Vi kan derfor alternativt udlede overskrifter på nyheder.tv2.dk med følgende (som giver et lidt pænere resultat):"
   ]
  },
  {
   "cell_type": "code",
   "execution_count": 29,
   "metadata": {},
   "outputs": [
    {
     "name": "stdout",
     "output_type": "stream",
     "text": [
      "Kong Harald opereret i hjertet\n",
      "Tab af sanser er det tydeligste symptom på coronavirus, viser studier\n",
      "Donald Trump har et nyt bud på, hvordan han fik coronavirus\n",
      "Politi søger vidner til knivstikkeri i Aalborg\n",
      "Knap 700 forskere råber op om sexisme på universiteter\n",
      "Paludan har fået anerkendt svensk statsborgerskab\n",
      "Lotte Rod bad selv Østergaard om at holde sagen hemmelig - indtil hun anklagede ham for at lyve\n",
      "Østergaards exit var den rigtige beslutning, mener knap halvdelen af danskerne\n",
      "Donald Trump har et nyt bud på, hvordan han fik coronavirus\n",
      "Lotte Rod bad selv Østergaard om at holde sagen hemmelig - indtil hun anklagede ham for at lyve\n",
      " 30 personer bortvist fra bodega\n",
      "Tårer, sang og en penis-joke: Se otte højdepunkter fra åbningsdebatten\n",
      "Retssag om hadforbrydelse og hærværk mod gravplads begynder\n",
      "Ligestillingsminister tager afstand til kritik af Lotte Rod\n",
      "Hvem får Nobels Fredspris i dag? Her er eksperts fem bud\n",
      "Læge giver grønt lys - Trump vil holde vælgermøde lørdag\n",
      "Rapperen Tory Lanez er sigtet for skud mod kendt sangerinde\n",
      "Kirgistans præsident er klar til at trække sig efter protester\n",
      "Grønlands Kim Kielsen undgår mistillid i sag om inhabilitet\n",
      "Tårer, sang og en penis-joke: Se otte højdepunkter fra åbningsdebatten\n",
      "Jeg er mester i at skifte fra pige til pige, sagde han – men de endte alligevel i retten\n",
      "Hvorfor er der publikum på 'Vild med dans' under corona? Få svar på dine spørgsmål her\n",
      "Tårer, sang og en penis-joke: Se otte højdepunkter fra åbningsdebatten\n",
      "'Teori' kendt fra ny dansk film – hvad skal du drikke for at holde promille på 0,5?\n",
      "Amerikanere strømmer til stemmeboksene i potentielt rekordvalg\n",
      "Derfor blev Morten Østergaard den første, der faldt efter debatten om krænkelser\n",
      " 30 personer bortvist fra bodega\n",
      "Kong Harald opereret i hjertet\n",
      "Australsk minister: Grænser er lukkede til slutningen af 2021\n",
      "To mænd anholdt i sag om skuddrab på parkeringsplads\n",
      "Joe Biden giver kold skulder til Donald Trumps udspil om tv-duel\n",
      "FBI: Milits havde plan om at kidnappe guvernør\n",
      "Få seneste nyt på TV 2 NEWS\n",
      "Derfor er kampen om præsidentposten kampen om svingstaterne\n",
      "Hvad betyder præsidentvalget for dansk eksport?\n",
      "Østergaard krænkede kollega og går som leder - hvad nu?\n",
      "Se et sammendrag af debatten mellem Pence og Harris\n",
      "Hvad var de vigtigste punkter i statsministerens åbningstale?\n",
      "Morten Østergaard krænkede partifælle - nu går han som politisk leder\n",
      "Få et unikt indblik i tankerne bag Sikandar Siddique og Uffe Elbæks nye parti\n",
      "Noor legede på motorvej med dansk politibetjent - hvad skete der med hende?\n",
      "Donald Trump har et nyt bud på, hvordan han fik coronavirus\n",
      "Læge giver grønt lys - Trump vil holde vælgermøde lørdag\n",
      "Østergaards exit var den rigtige beslutning, mener knap halvdelen af danskerne\n",
      "Magnussen ser frem til ‘ny bane’, han tidligere har nydt at køre på\n",
      "Annika Langvad stopper karrieren\n",
      "Tab af sanser er det tydeligste symptom på coronavirus, viser studier\n",
      "Hvem får Nobels Fredspris i dag? Her er eksperts fem bud\n",
      "\n",
      "Derfor blev Morten Østergaard den første, der faldt efter debatten om krænkelser\n"
     ]
    }
   ],
   "source": [
    "for tag in soup.find_all(\"a\", class_ = \"o-teaser_link\"):\n",
    "    print(tag['title'])"
   ]
  },
  {
   "cell_type": "markdown",
   "metadata": {},
   "source": [
    "# ØVELSE: Basal web scraping\n",
    "\n",
    "Lad os prøve at skrive et program, der finder overskrifter på Berlingske (https://www.berlingske.dk/nyheder).\n",
    "\n",
    "1. Indlæs HTML-indholdet af forsiden af Berlingske med `requests.get(url).content` (husk at gemme det i et objekt)\n",
    "2. Konverter HTML-indholdet til et soup-objekt med `bs(content)` (husk at gemme det i et objekt)\n",
    "3. Print tekstindholdet af det første `<h4>` tag (brug `soup.find()` og `.get_text()`)\n",
    "\n",
    "**BONUS**\n",
    "4. Skriv et stykke kode, der udleder linket til den første artikel på https://www.berlingske.dk/nyheder (udforsk HTML enten direkte i python eller gennem din browser)\n",
    "\n",
    "## LØSNING"
   ]
  },
  {
   "cell_type": "code",
   "execution_count": null,
   "metadata": {},
   "outputs": [],
   "source": []
  },
  {
   "cell_type": "markdown",
   "metadata": {},
   "source": [
    "# At arbejde med tekst data\n",
    "\n",
    "Lad os arbejde lidt videre med artikeloverskrifter fra nyheder.tv2.dk, men først skal vi have lidt data at arbejde med.\n",
    "\n",
    "Vi opbygger herunder en dictionary, der indeholder artikeloverskrifter og links. Vi konverterer derefter denne dictionary til en pandas dataframe."
   ]
  },
  {
   "cell_type": "code",
   "execution_count": 30,
   "metadata": {},
   "outputs": [],
   "source": [
    "url = \"https://nyheder.tv2.dk/\"\n",
    "req = requests.get(url)\n",
    "content = req.content\n",
    "soup = bs(content)\n",
    "\n",
    "ber_dict = {}\n",
    "key = 0\n",
    "\n",
    "for tag in soup.find_all(\"a\", class_ = \"o-teaser_link\"):\n",
    "    article_dict = {}\n",
    "    article_dict[\"title\"] = tag['title']\n",
    "    article_dict[\"link\"] = tag['href']\n",
    "    ber_dict[key] = article_dict\n",
    "    key = key + 1\n",
    "    \n",
    "article_data = pd.DataFrame.from_dict(ber_dict, orient = \"index\")"
   ]
  },
  {
   "cell_type": "code",
   "execution_count": 31,
   "metadata": {},
   "outputs": [
    {
     "data": {
      "text/html": [
       "<div>\n",
       "<style scoped>\n",
       "    .dataframe tbody tr th:only-of-type {\n",
       "        vertical-align: middle;\n",
       "    }\n",
       "\n",
       "    .dataframe tbody tr th {\n",
       "        vertical-align: top;\n",
       "    }\n",
       "\n",
       "    .dataframe thead th {\n",
       "        text-align: right;\n",
       "    }\n",
       "</style>\n",
       "<table border=\"1\" class=\"dataframe\">\n",
       "  <thead>\n",
       "    <tr style=\"text-align: right;\">\n",
       "      <th></th>\n",
       "      <th>title</th>\n",
       "      <th>link</th>\n",
       "    </tr>\n",
       "  </thead>\n",
       "  <tbody>\n",
       "    <tr>\n",
       "      <td>0</td>\n",
       "      <td>Kong Harald opereret i hjertet</td>\n",
       "      <td>/2020-10-09-lige-nu</td>\n",
       "    </tr>\n",
       "    <tr>\n",
       "      <td>1</td>\n",
       "      <td>Tab af sanser er det tydeligste symptom på cor...</td>\n",
       "      <td>//nyheder.tv2.dk/samfund/2020-10-09-tab-af-san...</td>\n",
       "    </tr>\n",
       "    <tr>\n",
       "      <td>2</td>\n",
       "      <td>Donald Trump har et nyt bud på, hvordan han fi...</td>\n",
       "      <td>//nyheder.tv2.dk/udland/2020-10-09-donald-trum...</td>\n",
       "    </tr>\n",
       "    <tr>\n",
       "      <td>3</td>\n",
       "      <td>Politi søger vidner til knivstikkeri i Aalborg</td>\n",
       "      <td>//nyheder.tv2.dk/krimi/2020-10-09-politi-soger...</td>\n",
       "    </tr>\n",
       "    <tr>\n",
       "      <td>4</td>\n",
       "      <td>Knap 700 forskere råber op om sexisme på unive...</td>\n",
       "      <td>//nyheder.tv2.dk/samfund/2020-10-09-knap-700-f...</td>\n",
       "    </tr>\n",
       "  </tbody>\n",
       "</table>\n",
       "</div>"
      ],
      "text/plain": [
       "                                               title  \\\n",
       "0                     Kong Harald opereret i hjertet   \n",
       "1  Tab af sanser er det tydeligste symptom på cor...   \n",
       "2  Donald Trump har et nyt bud på, hvordan han fi...   \n",
       "3     Politi søger vidner til knivstikkeri i Aalborg   \n",
       "4  Knap 700 forskere råber op om sexisme på unive...   \n",
       "\n",
       "                                                link  \n",
       "0                                /2020-10-09-lige-nu  \n",
       "1  //nyheder.tv2.dk/samfund/2020-10-09-tab-af-san...  \n",
       "2  //nyheder.tv2.dk/udland/2020-10-09-donald-trum...  \n",
       "3  //nyheder.tv2.dk/krimi/2020-10-09-politi-soger...  \n",
       "4  //nyheder.tv2.dk/samfund/2020-10-09-knap-700-f...  "
      ]
     },
     "execution_count": 31,
     "metadata": {},
     "output_type": "execute_result"
    }
   ],
   "source": [
    "article_data.head()"
   ]
  },
  {
   "cell_type": "markdown",
   "metadata": {},
   "source": [
    "Hvor mange artikler indeholder corona?"
   ]
  },
  {
   "cell_type": "code",
   "execution_count": 32,
   "metadata": {},
   "outputs": [
    {
     "data": {
      "text/plain": [
       "6"
      ]
     },
     "execution_count": 32,
     "metadata": {},
     "output_type": "execute_result"
    }
   ],
   "source": [
    "article_data['title'].str.contains(\"corona\", case = False).sum()"
   ]
  },
  {
   "cell_type": "markdown",
   "metadata": {},
   "source": [
    "Hvor mange artikler indeholder Trump?"
   ]
  },
  {
   "cell_type": "code",
   "execution_count": 33,
   "metadata": {},
   "outputs": [
    {
     "data": {
      "text/plain": [
       "6"
      ]
     },
     "execution_count": 33,
     "metadata": {},
     "output_type": "execute_result"
    }
   ],
   "source": [
    "article_data['title'].str.contains(\"trump\", case = False).sum()"
   ]
  },
  {
   "cell_type": "markdown",
   "metadata": {},
   "source": [
    "Tilføjet som variabel:"
   ]
  },
  {
   "cell_type": "code",
   "execution_count": 34,
   "metadata": {},
   "outputs": [
    {
     "data": {
      "text/html": [
       "<div>\n",
       "<style scoped>\n",
       "    .dataframe tbody tr th:only-of-type {\n",
       "        vertical-align: middle;\n",
       "    }\n",
       "\n",
       "    .dataframe tbody tr th {\n",
       "        vertical-align: top;\n",
       "    }\n",
       "\n",
       "    .dataframe thead th {\n",
       "        text-align: right;\n",
       "    }\n",
       "</style>\n",
       "<table border=\"1\" class=\"dataframe\">\n",
       "  <thead>\n",
       "    <tr style=\"text-align: right;\">\n",
       "      <th></th>\n",
       "      <th>title</th>\n",
       "      <th>link</th>\n",
       "      <th>corona</th>\n",
       "      <th>trump</th>\n",
       "    </tr>\n",
       "  </thead>\n",
       "  <tbody>\n",
       "    <tr>\n",
       "      <td>0</td>\n",
       "      <td>Kong Harald opereret i hjertet</td>\n",
       "      <td>/2020-10-09-lige-nu</td>\n",
       "      <td>False</td>\n",
       "      <td>False</td>\n",
       "    </tr>\n",
       "    <tr>\n",
       "      <td>1</td>\n",
       "      <td>Tab af sanser er det tydeligste symptom på cor...</td>\n",
       "      <td>//nyheder.tv2.dk/samfund/2020-10-09-tab-af-san...</td>\n",
       "      <td>True</td>\n",
       "      <td>False</td>\n",
       "    </tr>\n",
       "    <tr>\n",
       "      <td>2</td>\n",
       "      <td>Donald Trump har et nyt bud på, hvordan han fi...</td>\n",
       "      <td>//nyheder.tv2.dk/udland/2020-10-09-donald-trum...</td>\n",
       "      <td>True</td>\n",
       "      <td>True</td>\n",
       "    </tr>\n",
       "    <tr>\n",
       "      <td>3</td>\n",
       "      <td>Politi søger vidner til knivstikkeri i Aalborg</td>\n",
       "      <td>//nyheder.tv2.dk/krimi/2020-10-09-politi-soger...</td>\n",
       "      <td>False</td>\n",
       "      <td>False</td>\n",
       "    </tr>\n",
       "    <tr>\n",
       "      <td>4</td>\n",
       "      <td>Knap 700 forskere råber op om sexisme på unive...</td>\n",
       "      <td>//nyheder.tv2.dk/samfund/2020-10-09-knap-700-f...</td>\n",
       "      <td>False</td>\n",
       "      <td>False</td>\n",
       "    </tr>\n",
       "  </tbody>\n",
       "</table>\n",
       "</div>"
      ],
      "text/plain": [
       "                                               title  \\\n",
       "0                     Kong Harald opereret i hjertet   \n",
       "1  Tab af sanser er det tydeligste symptom på cor...   \n",
       "2  Donald Trump har et nyt bud på, hvordan han fi...   \n",
       "3     Politi søger vidner til knivstikkeri i Aalborg   \n",
       "4  Knap 700 forskere råber op om sexisme på unive...   \n",
       "\n",
       "                                                link  corona  trump  \n",
       "0                                /2020-10-09-lige-nu   False  False  \n",
       "1  //nyheder.tv2.dk/samfund/2020-10-09-tab-af-san...    True  False  \n",
       "2  //nyheder.tv2.dk/udland/2020-10-09-donald-trum...    True   True  \n",
       "3  //nyheder.tv2.dk/krimi/2020-10-09-politi-soger...   False  False  \n",
       "4  //nyheder.tv2.dk/samfund/2020-10-09-knap-700-f...   False  False  "
      ]
     },
     "execution_count": 34,
     "metadata": {},
     "output_type": "execute_result"
    }
   ],
   "source": [
    "article_data['corona'] = article_data['title'].str.contains(\"corona\", case = False)\n",
    "article_data['trump'] = article_data['title'].str.contains(\"trump\", case = False)\n",
    "\n",
    "article_data.head()"
   ]
  },
  {
   "cell_type": "markdown",
   "metadata": {},
   "source": [
    "Er der artikler om trump og corona?"
   ]
  },
  {
   "cell_type": "code",
   "execution_count": 35,
   "metadata": {},
   "outputs": [
    {
     "data": {
      "text/html": [
       "<div>\n",
       "<style scoped>\n",
       "    .dataframe tbody tr th:only-of-type {\n",
       "        vertical-align: middle;\n",
       "    }\n",
       "\n",
       "    .dataframe tbody tr th {\n",
       "        vertical-align: top;\n",
       "    }\n",
       "\n",
       "    .dataframe thead th {\n",
       "        text-align: right;\n",
       "    }\n",
       "</style>\n",
       "<table border=\"1\" class=\"dataframe\">\n",
       "  <thead>\n",
       "    <tr style=\"text-align: right;\">\n",
       "      <th></th>\n",
       "      <th>title</th>\n",
       "      <th>link</th>\n",
       "      <th>corona</th>\n",
       "      <th>trump</th>\n",
       "    </tr>\n",
       "  </thead>\n",
       "  <tbody>\n",
       "    <tr>\n",
       "      <td>2</td>\n",
       "      <td>Donald Trump har et nyt bud på, hvordan han fi...</td>\n",
       "      <td>//nyheder.tv2.dk/udland/2020-10-09-donald-trum...</td>\n",
       "      <td>True</td>\n",
       "      <td>True</td>\n",
       "    </tr>\n",
       "    <tr>\n",
       "      <td>8</td>\n",
       "      <td>Donald Trump har et nyt bud på, hvordan han fi...</td>\n",
       "      <td>//nyheder.tv2.dk/udland/2020-10-09-donald-trum...</td>\n",
       "      <td>True</td>\n",
       "      <td>True</td>\n",
       "    </tr>\n",
       "    <tr>\n",
       "      <td>41</td>\n",
       "      <td>Donald Trump har et nyt bud på, hvordan han fi...</td>\n",
       "      <td>//nyheder.tv2.dk/udland/2020-10-09-donald-trum...</td>\n",
       "      <td>True</td>\n",
       "      <td>True</td>\n",
       "    </tr>\n",
       "  </tbody>\n",
       "</table>\n",
       "</div>"
      ],
      "text/plain": [
       "                                                title  \\\n",
       "2   Donald Trump har et nyt bud på, hvordan han fi...   \n",
       "8   Donald Trump har et nyt bud på, hvordan han fi...   \n",
       "41  Donald Trump har et nyt bud på, hvordan han fi...   \n",
       "\n",
       "                                                 link  corona  trump  \n",
       "2   //nyheder.tv2.dk/udland/2020-10-09-donald-trum...    True   True  \n",
       "8   //nyheder.tv2.dk/udland/2020-10-09-donald-trum...    True   True  \n",
       "41  //nyheder.tv2.dk/udland/2020-10-09-donald-trum...    True   True  "
      ]
     },
     "execution_count": 35,
     "metadata": {},
     "output_type": "execute_result"
    }
   ],
   "source": [
    "article_data.loc[(article_data['corona'] == True) & (article_data['trump'] == True), :]"
   ]
  },
  {
   "cell_type": "code",
   "execution_count": 36,
   "metadata": {},
   "outputs": [
    {
     "data": {
      "text/plain": [
       "corona  trump\n",
       "False   False    41\n",
       "        True      3\n",
       "True    False     3\n",
       "        True      3\n",
       "dtype: int64"
      ]
     },
     "execution_count": 36,
     "metadata": {},
     "output_type": "execute_result"
    }
   ],
   "source": [
    "grouped_df = article_data.groupby(['corona', 'trump'])\n",
    "\n",
    "grouped_df.size()"
   ]
  },
  {
   "cell_type": "markdown",
   "metadata": {},
   "source": [
    "# ØVELSE: Indhold i tekst\n",
    "\n",
    "Datasættet 'pol-tweets-2020_sample.csv' (https://github.com/CALDISS-AAU/workshop_python-text-mining/raw/master/data/pol-tweets-2020_sample.csv) indholder et udtræk af 500 tilfældige tweets fra danske politikere.\n",
    "\n",
    "1. Lav en variabel, der indikerer, om tweetet indeholder ordet \"klima\"\n",
    "2. Find ud af hvor mange tweets, der nævner \"klima\"\n",
    "\n",
    "**BONUS**\n",
    "3. Skriv kode (fx en visualisering), der viser, hvem der snakker meget om klima\n",
    "\n",
    "## LØSNING"
   ]
  },
  {
   "cell_type": "code",
   "execution_count": null,
   "metadata": {},
   "outputs": [],
   "source": []
  },
  {
   "cell_type": "markdown",
   "metadata": {},
   "source": [
    "Hvem snakker om klima?"
   ]
  },
  {
   "cell_type": "code",
   "execution_count": null,
   "metadata": {},
   "outputs": [],
   "source": []
  },
  {
   "cell_type": "markdown",
   "metadata": {},
   "source": [
    "# Udledning af nøgleord\n",
    "\n",
    "Lad os vende tilbage til forsideartiklerne.\n",
    "\n",
    "- Hvad bliver der særligt diskuteret i dag?\n",
    "- Hvilke artikler behandler det mest diskuterede tema?"
   ]
  },
  {
   "cell_type": "markdown",
   "metadata": {},
   "source": [
    "## Tokenization\n",
    "\n",
    "\"Tokenization\" er et typisk skridt i behandlingen af tekst data. Tokenization er processen, der omdanner rå tekst til enkelte tekstenheder (tokens) - typisk i form af enkeltord.\n",
    "\n",
    "Typiske skridt i tokenization:\n",
    "\n",
    "1. Opdeling af tekst i enkeltord\n",
    "2. Frasortering af tegnsætning\n",
    "3. Evt. konverter til små bogstaver\n",
    "4. Frasorter stopord\n",
    "5. Evt. konverter til \"stammen\" (stemming eller lemmatization)\n",
    "\n",
    "Der findes efterhånden mange værktøjer der kan udføre tokenization.\n",
    "\n",
    "Først tager vi skridt 1-4 med mere basale Python kommandoer. Derefter ser vi på den \"smarte\" løsning."
   ]
  },
  {
   "cell_type": "markdown",
   "metadata": {},
   "source": [
    "### 1. Opdeling af tekst i enkeltord"
   ]
  },
  {
   "cell_type": "code",
   "execution_count": 37,
   "metadata": {},
   "outputs": [
    {
     "data": {
      "text/plain": [
       "['Først',\n",
       " 'ville',\n",
       " 'Trump',\n",
       " 'slet',\n",
       " 'ikke',\n",
       " 'forhandle,',\n",
       " 'men',\n",
       " 'nu',\n",
       " 'vil',\n",
       " 'han',\n",
       " 'gerne',\n",
       " 'lidt',\n",
       " 'alligevel',\n",
       " '-',\n",
       " 'og',\n",
       " 'det',\n",
       " 'koster',\n",
       " 'point',\n",
       " 'i',\n",
       " 'valgkampen']"
      ]
     },
     "execution_count": 37,
     "metadata": {},
     "output_type": "execute_result"
    }
   ],
   "source": [
    "heading = \"Først ville Trump slet ikke forhandle, men nu vil han gerne lidt alligevel - og det koster point i valgkampen\"\n",
    "\n",
    "words = heading.split(\" \")\n",
    "\n",
    "words"
   ]
  },
  {
   "cell_type": "markdown",
   "metadata": {},
   "source": [
    "### 2. Frasortering af tegnsætning"
   ]
  },
  {
   "cell_type": "code",
   "execution_count": 38,
   "metadata": {},
   "outputs": [
    {
     "data": {
      "text/plain": [
       "['Først',\n",
       " 'ville',\n",
       " 'Trump',\n",
       " 'slet',\n",
       " 'ikke',\n",
       " 'forhandle',\n",
       " 'men',\n",
       " 'nu',\n",
       " 'vil',\n",
       " 'han',\n",
       " 'gerne',\n",
       " 'lidt',\n",
       " 'alligevel',\n",
       " 'og',\n",
       " 'det',\n",
       " 'koster',\n",
       " 'point',\n",
       " 'i',\n",
       " 'valgkampen']"
      ]
     },
     "execution_count": 38,
     "metadata": {},
     "output_type": "execute_result"
    }
   ],
   "source": [
    "punct_list = [',', '-','.','?','!']\n",
    "\n",
    "words_nopunct = []\n",
    "\n",
    "for word in words:\n",
    "    for punct in punct_list:\n",
    "        word = word.replace(punct, \"\")\n",
    "    words_nopunct.append(word)\n",
    "    \n",
    "words_nopunct = list(filter(None, words_nopunct))\n",
    "words_nopunct"
   ]
  },
  {
   "cell_type": "markdown",
   "metadata": {},
   "source": [
    "### 3. Konverter til små bogstaver"
   ]
  },
  {
   "cell_type": "code",
   "execution_count": 39,
   "metadata": {},
   "outputs": [
    {
     "data": {
      "text/plain": [
       "['først',\n",
       " 'ville',\n",
       " 'trump',\n",
       " 'slet',\n",
       " 'ikke',\n",
       " 'forhandle',\n",
       " 'men',\n",
       " 'nu',\n",
       " 'vil',\n",
       " 'han',\n",
       " 'gerne',\n",
       " 'lidt',\n",
       " 'alligevel',\n",
       " 'og',\n",
       " 'det',\n",
       " 'koster',\n",
       " 'point',\n",
       " 'i',\n",
       " 'valgkampen']"
      ]
     },
     "execution_count": 39,
     "metadata": {},
     "output_type": "execute_result"
    }
   ],
   "source": [
    "words_lower = [word.lower() for word in words_nopunct]\n",
    "words_lower"
   ]
  },
  {
   "cell_type": "markdown",
   "metadata": {},
   "source": [
    "### 4. Frasorter stopord"
   ]
  },
  {
   "cell_type": "code",
   "execution_count": 40,
   "metadata": {},
   "outputs": [
    {
     "data": {
      "text/plain": [
       "['trump', 'forhandle', 'point', 'valgkampen']"
      ]
     },
     "execution_count": 40,
     "metadata": {},
     "output_type": "execute_result"
    }
   ],
   "source": [
    "stopwords = ['først', 'ville', 'slet', 'ikke', 'men', 'nu', 'vil', 'han', 'gerne', 'lidt', 'alligevel', 'og', 'det', 'koster', 'i']\n",
    "\n",
    "tokens = []\n",
    "\n",
    "for word in words_lower:\n",
    "    if word not in stopwords:\n",
    "        tokens.append(word)\n",
    "        \n",
    "tokens"
   ]
  },
  {
   "cell_type": "markdown",
   "metadata": {},
   "source": [
    "### 5. Stemming / lemmatization\n",
    "\n",
    "Formålet med tokenization er både at frasortere støj i teksten og ensrette tokens sådan, at der kun er ét token for alle ord med samme semantiske betydning.\n",
    "\n",
    "Fx er det uhensigtsmæssigt at behandle \"Valgkamp\" og \"valgkamp\" som to forskellige tokens, da det er det samme ord bare med stort og lille forbogstav.\n",
    "\n",
    "Netop fordi hvert ord som udgangspunkt behanldes som unikt, giver det nogen udfordring ift. grammatik, da hver ordbøjning bliver hver sit token - medmindre man gør noget ved det!\n",
    "\n",
    "Derfor er en typisk praksis enten at konvertere ordet til stammen (stemming). Her ville ord som \"koste\", \"koster\", \"kostede\" alle konverteres til \"kost\", da det er ordets stamme.\n",
    "\n",
    "En anden praksis er at konvertere til navneformen (lemmatization). Her ville ord som \"koste\", \"koster\", \"kostede\" alle konverteres til \"koste\", da det er navneform for ordet.\n",
    "\n",
    "Sådanne konverteringer kræver, at man bruger i forvejen trænede sprogmodeller, da stamme og navneform vil variere fra sprog til sprog. Heldigvis er der udviklet mange af disse værktøjer.\n",
    "\n",
    "Dog er sådan nogen værktøjer ikke uden fejl, da det tager lang tid for en computer at lære, hvad forskellen er på \"kost\" (noget man spiser), \"kost\" (noget man fejer med) og \"kost\" (stammen at verbum \"koste\")."
   ]
  },
  {
   "cell_type": "markdown",
   "metadata": {},
   "source": [
    "### Tokenization med spacy\n",
    "\n",
    "Ovenstående er en noget langsommelige proces. Lad os prøve med en tokenizer fra pakken \"spacy\"."
   ]
  },
  {
   "cell_type": "code",
   "execution_count": 41,
   "metadata": {},
   "outputs": [],
   "source": [
    "nlp = spacy.load(\"da_core_news_sm\") # Indlæsning af dansk sprogmodel\n",
    "\n",
    "doc = nlp(heading) # Behandling af tekststykke med sprogmodel"
   ]
  },
  {
   "cell_type": "markdown",
   "metadata": {},
   "source": [
    "Print af de umiddelbart udledte tokens:"
   ]
  },
  {
   "cell_type": "code",
   "execution_count": 42,
   "metadata": {},
   "outputs": [
    {
     "name": "stdout",
     "output_type": "stream",
     "text": [
      "Først\n",
      "ville\n",
      "Trump\n",
      "slet\n",
      "ikke\n",
      "forhandle\n",
      ",\n",
      "men\n",
      "nu\n",
      "vil\n",
      "han\n",
      "gerne\n",
      "lidt\n",
      "alligevel\n",
      "-\n",
      "og\n",
      "det\n",
      "koster\n",
      "point\n",
      "i\n",
      "valgkampen\n"
     ]
    }
   ],
   "source": [
    "for token in doc:\n",
    "    print(token.text)"
   ]
  },
  {
   "cell_type": "markdown",
   "metadata": {},
   "source": [
    "Tokens lemmatiseret:"
   ]
  },
  {
   "cell_type": "code",
   "execution_count": 43,
   "metadata": {},
   "outputs": [
    {
     "name": "stdout",
     "output_type": "stream",
     "text": [
      "Først\n",
      "ville\n",
      "Trump\n",
      "slette\n",
      "ikke\n",
      "forhandle\n",
      ",\n",
      "men\n",
      "nu\n",
      "ville\n",
      "han\n",
      "gerne\n",
      "lidt\n",
      "alligevel\n",
      "-\n",
      "og\n",
      "det\n",
      "koste\n",
      "point\n",
      "i\n",
      "valgkamp\n"
     ]
    }
   ],
   "source": [
    "for token in doc:\n",
    "    print(token.lemma_)"
   ]
  },
  {
   "cell_type": "markdown",
   "metadata": {},
   "source": [
    "Hvilken ordklasse er ordene? (her er der nogen fejl)"
   ]
  },
  {
   "cell_type": "code",
   "execution_count": 44,
   "metadata": {},
   "outputs": [
    {
     "name": "stdout",
     "output_type": "stream",
     "text": [
      "Først      ADV\n",
      "ville      AUX\n",
      "Trump      VERB\n",
      "slet       ADV\n",
      "ikke       ADV\n",
      "forhandle  VERB\n",
      ",          PUNCT\n",
      "men        CCONJ\n",
      "nu         ADV\n",
      "vil        AUX\n",
      "han        PRON\n",
      "gerne      ADV\n",
      "lidt       ADJ\n",
      "alligevel  ADV\n",
      "-          PUNCT\n",
      "og         CCONJ\n",
      "det        PRON\n",
      "koster     VERB\n",
      "point      NOUN\n",
      "i          ADP\n",
      "valgkampen NOUN\n"
     ]
    }
   ],
   "source": [
    "for token in doc:\n",
    "    print('{0:10.10} {1}'.format(token.text, token.pos_))"
   ]
  },
  {
   "cell_type": "markdown",
   "metadata": {},
   "source": [
    "**VIDENSCHECK**: Kan I spotte nogen fejlklassificeringer?"
   ]
  },
  {
   "cell_type": "markdown",
   "metadata": {},
   "source": [
    "Med sprogmodellen i spacy følger i øvrigt en prædefineret stopordsliste:"
   ]
  },
  {
   "cell_type": "code",
   "execution_count": 45,
   "metadata": {},
   "outputs": [
    {
     "data": {
      "text/plain": [
       "['ny',\n",
       " 'ind',\n",
       " 'andet',\n",
       " 'indtil',\n",
       " 'end',\n",
       " 'næste',\n",
       " 'lave',\n",
       " 'som',\n",
       " 'imens',\n",
       " 'først']"
      ]
     },
     "execution_count": 45,
     "metadata": {},
     "output_type": "execute_result"
    }
   ],
   "source": [
    "list(nlp.Defaults.stop_words)[0:10]"
   ]
  },
  {
   "cell_type": "markdown",
   "metadata": {},
   "source": [
    "Fra standardpakken `string` kan vi skaffe tegnsætning:"
   ]
  },
  {
   "cell_type": "code",
   "execution_count": 46,
   "metadata": {},
   "outputs": [
    {
     "data": {
      "text/plain": [
       "'!\"#$%&\\'()*+,-./:;<=>?@[\\\\]^_`{|}~'"
      ]
     },
     "execution_count": 46,
     "metadata": {},
     "output_type": "execute_result"
    }
   ],
   "source": [
    "import string\n",
    "\n",
    "string.punctuation"
   ]
  },
  {
   "cell_type": "markdown",
   "metadata": {},
   "source": [
    "Med disse værktøjer kan vi danne vores token-liste på følgende måde. Vi kan samtidig filtere efter bestemte ordklasser:"
   ]
  },
  {
   "cell_type": "code",
   "execution_count": 47,
   "metadata": {},
   "outputs": [],
   "source": [
    "tokens = []\n",
    "\n",
    "tokenizer = Tokenizer(nlp.vocab) # Indlæsning af tokenizer\n",
    "pos_tag = ['PROPN', 'ADJ', 'NOUN'] # Beholder adjektiver og navneord\n",
    "stopwords = list(nlp.Defaults.stop_words)\n",
    "punctuation = string.punctuation + \"”\"\n",
    "\n",
    "for token in doc:\n",
    "    \n",
    "    if(token.text.lower() in stopwords or token.text in punctuation):\n",
    "        continue\n",
    "        \n",
    "    if(token.pos_ in pos_tag):\n",
    "        tokens.append(token.text.lower())"
   ]
  },
  {
   "cell_type": "markdown",
   "metadata": {},
   "source": [
    "Tilbage står vi (med denne sortering) med følgende meningsfulde tokens:"
   ]
  },
  {
   "cell_type": "code",
   "execution_count": 48,
   "metadata": {},
   "outputs": [
    {
     "data": {
      "text/plain": [
       "['point', 'valgkampen']"
      ]
     },
     "execution_count": 48,
     "metadata": {},
     "output_type": "execute_result"
    }
   ],
   "source": [
    "tokens"
   ]
  },
  {
   "cell_type": "markdown",
   "metadata": {},
   "source": [
    "## Udled nøgleord - liste tilgang\n",
    "\n",
    "Lad os nu kombinere ovenstående til at udlede nøgleord af avisartiklerne. Vi kan samtidig filtere efter bestemte ordklasser."
   ]
  },
  {
   "cell_type": "code",
   "execution_count": 49,
   "metadata": {},
   "outputs": [
    {
     "data": {
      "text/html": [
       "<div>\n",
       "<style scoped>\n",
       "    .dataframe tbody tr th:only-of-type {\n",
       "        vertical-align: middle;\n",
       "    }\n",
       "\n",
       "    .dataframe tbody tr th {\n",
       "        vertical-align: top;\n",
       "    }\n",
       "\n",
       "    .dataframe thead th {\n",
       "        text-align: right;\n",
       "    }\n",
       "</style>\n",
       "<table border=\"1\" class=\"dataframe\">\n",
       "  <thead>\n",
       "    <tr style=\"text-align: right;\">\n",
       "      <th></th>\n",
       "      <th>title</th>\n",
       "      <th>link</th>\n",
       "      <th>corona</th>\n",
       "      <th>trump</th>\n",
       "    </tr>\n",
       "  </thead>\n",
       "  <tbody>\n",
       "    <tr>\n",
       "      <td>0</td>\n",
       "      <td>Kong Harald opereret i hjertet</td>\n",
       "      <td>/2020-10-09-lige-nu</td>\n",
       "      <td>False</td>\n",
       "      <td>False</td>\n",
       "    </tr>\n",
       "    <tr>\n",
       "      <td>1</td>\n",
       "      <td>Tab af sanser er det tydeligste symptom på cor...</td>\n",
       "      <td>//nyheder.tv2.dk/samfund/2020-10-09-tab-af-san...</td>\n",
       "      <td>True</td>\n",
       "      <td>False</td>\n",
       "    </tr>\n",
       "    <tr>\n",
       "      <td>2</td>\n",
       "      <td>Donald Trump har et nyt bud på, hvordan han fi...</td>\n",
       "      <td>//nyheder.tv2.dk/udland/2020-10-09-donald-trum...</td>\n",
       "      <td>True</td>\n",
       "      <td>True</td>\n",
       "    </tr>\n",
       "    <tr>\n",
       "      <td>3</td>\n",
       "      <td>Politi søger vidner til knivstikkeri i Aalborg</td>\n",
       "      <td>//nyheder.tv2.dk/krimi/2020-10-09-politi-soger...</td>\n",
       "      <td>False</td>\n",
       "      <td>False</td>\n",
       "    </tr>\n",
       "    <tr>\n",
       "      <td>4</td>\n",
       "      <td>Knap 700 forskere råber op om sexisme på unive...</td>\n",
       "      <td>//nyheder.tv2.dk/samfund/2020-10-09-knap-700-f...</td>\n",
       "      <td>False</td>\n",
       "      <td>False</td>\n",
       "    </tr>\n",
       "  </tbody>\n",
       "</table>\n",
       "</div>"
      ],
      "text/plain": [
       "                                               title  \\\n",
       "0                     Kong Harald opereret i hjertet   \n",
       "1  Tab af sanser er det tydeligste symptom på cor...   \n",
       "2  Donald Trump har et nyt bud på, hvordan han fi...   \n",
       "3     Politi søger vidner til knivstikkeri i Aalborg   \n",
       "4  Knap 700 forskere råber op om sexisme på unive...   \n",
       "\n",
       "                                                link  corona  trump  \n",
       "0                                /2020-10-09-lige-nu   False  False  \n",
       "1  //nyheder.tv2.dk/samfund/2020-10-09-tab-af-san...    True  False  \n",
       "2  //nyheder.tv2.dk/udland/2020-10-09-donald-trum...    True   True  \n",
       "3  //nyheder.tv2.dk/krimi/2020-10-09-politi-soger...   False  False  \n",
       "4  //nyheder.tv2.dk/samfund/2020-10-09-knap-700-f...   False  False  "
      ]
     },
     "execution_count": 49,
     "metadata": {},
     "output_type": "execute_result"
    }
   ],
   "source": [
    "article_data.head()"
   ]
  },
  {
   "cell_type": "code",
   "execution_count": 50,
   "metadata": {},
   "outputs": [],
   "source": [
    "headings = ' '.join(list(article_data['title'])) # Al tekst samles i en string"
   ]
  },
  {
   "cell_type": "code",
   "execution_count": 51,
   "metadata": {},
   "outputs": [
    {
     "data": {
      "text/plain": [
       "['harald',\n",
       " 'hjertet',\n",
       " 'tab',\n",
       " 'sanser',\n",
       " 'tydeligste',\n",
       " 'symptom',\n",
       " 'coronavirus',\n",
       " 'studier',\n",
       " 'donald',\n",
       " 'trump']"
      ]
     },
     "execution_count": 51,
     "metadata": {},
     "output_type": "execute_result"
    }
   ],
   "source": [
    "doc = nlp(headings)\n",
    "\n",
    "tokens = []\n",
    "\n",
    "tokenizer = Tokenizer(nlp.vocab) # Indlæsning af tokenizer\n",
    "pos_tag = ['PROPN', 'ADJ', 'NOUN'] # Beholder adjektiver og navneord\n",
    "stopwords = list(nlp.Defaults.stop_words)\n",
    "punctuation = string.punctuation + \"”\"\n",
    "\n",
    "for token in doc:\n",
    "    \n",
    "    if(token.text.lower() in stopwords or token.text in punctuation):\n",
    "        continue\n",
    "        \n",
    "    if(token.pos_ in pos_tag):\n",
    "        tokens.append(token.text.lower())\n",
    "        \n",
    "tokens[0:10]"
   ]
  },
  {
   "cell_type": "code",
   "execution_count": 52,
   "metadata": {},
   "outputs": [
    {
     "data": {
      "text/plain": [
       "<matplotlib.axes._subplots.AxesSubplot at 0x7fecd9132910>"
      ]
     },
     "execution_count": 52,
     "metadata": {},
     "output_type": "execute_result"
    },
    {
     "data": {
      "image/png": "[encoded data removed]",
      "text/plain": [
       "<Figure size 432x288 with 1 Axes>"
      ]
     },
     "metadata": {
      "needs_background": "light"
     },
     "output_type": "display_data"
    }
   ],
   "source": [
    "token_series = pd.Series(tokens)\n",
    "\n",
    "counts = token_series.value_counts()\n",
    "counts = counts[counts > 1]\n",
    "\n",
    "counts.plot.bar()"
   ]
  },
  {
   "cell_type": "markdown",
   "metadata": {},
   "source": [
    "Og med ordsky:"
   ]
  },
  {
   "cell_type": "code",
   "execution_count": 53,
   "metadata": {},
   "outputs": [
    {
     "data": {
      "text/plain": [
       "(-0.5, 399.5, 199.5, -0.5)"
      ]
     },
     "execution_count": 53,
     "metadata": {},
     "output_type": "execute_result"
    },
    {
     "data": {
      "image/png": "[encoded data removed]",
      "text/plain": [
       "<Figure size 432x288 with 1 Axes>"
      ]
     },
     "metadata": {
      "needs_background": "light"
     },
     "output_type": "display_data"
    }
   ],
   "source": [
    "wc = WordCloud(background_color=\"white\")\n",
    "wc.fit_words(counts)\n",
    "\n",
    "plt.imshow(wc, interpolation=\"bilinear\")\n",
    "plt.axis(\"off\")"
   ]
  },
  {
   "cell_type": "markdown",
   "metadata": {},
   "source": [
    "## Udled nøgleord - tidy data tilgang\n",
    "\n",
    "Ulempen ved ovenstående tilgang er, at det kan blive vanskeligt at koble teksten tilbage til oprindelige data.\n",
    "\n",
    "En måde, at udføre tekstanalyser, men hvor man samtidig holder data struktureret, er ved at få data ændret på sådan en måde, at man kan koble ordbrug til bestemte tekster. \n",
    "\n",
    "Dette er et eksempel på en tidy data tilgang. Tidy data dikterer, at hver række i et datasæt skal være en unik observation.\n",
    "Til arbejde med tekst opnår vi en del fleksibilitet ved at få et datasæt, hvor hver række indeholder:\n",
    "- Teksten (fx en overskrift eller et tweet)\n",
    "- Baggrundsinformation om teksten (evt. dato eller navn på twitter-bruger)\n",
    "- Ordet i teksten\n",
    "\n",
    "Det giver hurtigt et meget stort datasæt, men det har mange fordele i det senere analyse arbejde."
   ]
  },
  {
   "cell_type": "code",
   "execution_count": 54,
   "metadata": {},
   "outputs": [
    {
     "data": {
      "text/html": [
       "<div>\n",
       "<style scoped>\n",
       "    .dataframe tbody tr th:only-of-type {\n",
       "        vertical-align: middle;\n",
       "    }\n",
       "\n",
       "    .dataframe tbody tr th {\n",
       "        vertical-align: top;\n",
       "    }\n",
       "\n",
       "    .dataframe thead th {\n",
       "        text-align: right;\n",
       "    }\n",
       "</style>\n",
       "<table border=\"1\" class=\"dataframe\">\n",
       "  <thead>\n",
       "    <tr style=\"text-align: right;\">\n",
       "      <th></th>\n",
       "      <th>title</th>\n",
       "      <th>link</th>\n",
       "      <th>corona</th>\n",
       "      <th>trump</th>\n",
       "    </tr>\n",
       "  </thead>\n",
       "  <tbody>\n",
       "    <tr>\n",
       "      <td>0</td>\n",
       "      <td>Kong Harald opereret i hjertet</td>\n",
       "      <td>/2020-10-09-lige-nu</td>\n",
       "      <td>False</td>\n",
       "      <td>False</td>\n",
       "    </tr>\n",
       "    <tr>\n",
       "      <td>1</td>\n",
       "      <td>Tab af sanser er det tydeligste symptom på cor...</td>\n",
       "      <td>//nyheder.tv2.dk/samfund/2020-10-09-tab-af-san...</td>\n",
       "      <td>True</td>\n",
       "      <td>False</td>\n",
       "    </tr>\n",
       "    <tr>\n",
       "      <td>2</td>\n",
       "      <td>Donald Trump har et nyt bud på, hvordan han fi...</td>\n",
       "      <td>//nyheder.tv2.dk/udland/2020-10-09-donald-trum...</td>\n",
       "      <td>True</td>\n",
       "      <td>True</td>\n",
       "    </tr>\n",
       "    <tr>\n",
       "      <td>3</td>\n",
       "      <td>Politi søger vidner til knivstikkeri i Aalborg</td>\n",
       "      <td>//nyheder.tv2.dk/krimi/2020-10-09-politi-soger...</td>\n",
       "      <td>False</td>\n",
       "      <td>False</td>\n",
       "    </tr>\n",
       "    <tr>\n",
       "      <td>4</td>\n",
       "      <td>Knap 700 forskere råber op om sexisme på unive...</td>\n",
       "      <td>//nyheder.tv2.dk/samfund/2020-10-09-knap-700-f...</td>\n",
       "      <td>False</td>\n",
       "      <td>False</td>\n",
       "    </tr>\n",
       "  </tbody>\n",
       "</table>\n",
       "</div>"
      ],
      "text/plain": [
       "                                               title  \\\n",
       "0                     Kong Harald opereret i hjertet   \n",
       "1  Tab af sanser er det tydeligste symptom på cor...   \n",
       "2  Donald Trump har et nyt bud på, hvordan han fi...   \n",
       "3     Politi søger vidner til knivstikkeri i Aalborg   \n",
       "4  Knap 700 forskere råber op om sexisme på unive...   \n",
       "\n",
       "                                                link  corona  trump  \n",
       "0                                /2020-10-09-lige-nu   False  False  \n",
       "1  //nyheder.tv2.dk/samfund/2020-10-09-tab-af-san...    True  False  \n",
       "2  //nyheder.tv2.dk/udland/2020-10-09-donald-trum...    True   True  \n",
       "3  //nyheder.tv2.dk/krimi/2020-10-09-politi-soger...   False  False  \n",
       "4  //nyheder.tv2.dk/samfund/2020-10-09-knap-700-f...   False  False  "
      ]
     },
     "execution_count": 54,
     "metadata": {},
     "output_type": "execute_result"
    }
   ],
   "source": [
    "article_data.head()"
   ]
  },
  {
   "cell_type": "markdown",
   "metadata": {},
   "source": [
    "Funktion til at danne tokens:"
   ]
  },
  {
   "cell_type": "code",
   "execution_count": 55,
   "metadata": {},
   "outputs": [],
   "source": [
    "def tokenize_function(text):\n",
    "    doc = nlp(text)\n",
    "\n",
    "    tokens = []\n",
    "\n",
    "    tokenizer = Tokenizer(nlp.vocab) # Indlæsning af tokenizer\n",
    "    pos_tag = ['PROPN', 'ADJ', 'NOUN'] # Beholder adjektiver og navneord\n",
    "    stopwords = list(nlp.Defaults.stop_words)\n",
    "    punctuation = string.punctuation + \"”\"\n",
    "\n",
    "    for token in doc:\n",
    "    \n",
    "        if(token.text.lower() in stopwords or token.text in punctuation):\n",
    "            continue\n",
    "\n",
    "        if(token.pos_ in pos_tag):\n",
    "            tokens.append(token.text.lower())\n",
    "        \n",
    "    return(tokens)"
   ]
  },
  {
   "cell_type": "markdown",
   "metadata": {},
   "source": [
    "Funktionen bruges:"
   ]
  },
  {
   "cell_type": "code",
   "execution_count": 56,
   "metadata": {},
   "outputs": [
    {
     "data": {
      "text/html": [
       "<div>\n",
       "<style scoped>\n",
       "    .dataframe tbody tr th:only-of-type {\n",
       "        vertical-align: middle;\n",
       "    }\n",
       "\n",
       "    .dataframe tbody tr th {\n",
       "        vertical-align: top;\n",
       "    }\n",
       "\n",
       "    .dataframe thead th {\n",
       "        text-align: right;\n",
       "    }\n",
       "</style>\n",
       "<table border=\"1\" class=\"dataframe\">\n",
       "  <thead>\n",
       "    <tr style=\"text-align: right;\">\n",
       "      <th></th>\n",
       "      <th>title</th>\n",
       "      <th>link</th>\n",
       "      <th>corona</th>\n",
       "      <th>trump</th>\n",
       "      <th>tokens</th>\n",
       "    </tr>\n",
       "  </thead>\n",
       "  <tbody>\n",
       "    <tr>\n",
       "      <td>0</td>\n",
       "      <td>Kong Harald opereret i hjertet</td>\n",
       "      <td>/2020-10-09-lige-nu</td>\n",
       "      <td>False</td>\n",
       "      <td>False</td>\n",
       "      <td>[harald, hjertet]</td>\n",
       "    </tr>\n",
       "    <tr>\n",
       "      <td>1</td>\n",
       "      <td>Tab af sanser er det tydeligste symptom på cor...</td>\n",
       "      <td>//nyheder.tv2.dk/samfund/2020-10-09-tab-af-san...</td>\n",
       "      <td>True</td>\n",
       "      <td>False</td>\n",
       "      <td>[tab, sanser, tydeligste, symptom, coronavirus...</td>\n",
       "    </tr>\n",
       "    <tr>\n",
       "      <td>2</td>\n",
       "      <td>Donald Trump har et nyt bud på, hvordan han fi...</td>\n",
       "      <td>//nyheder.tv2.dk/udland/2020-10-09-donald-trum...</td>\n",
       "      <td>True</td>\n",
       "      <td>True</td>\n",
       "      <td>[donald, trump, bud, coronavirus]</td>\n",
       "    </tr>\n",
       "    <tr>\n",
       "      <td>3</td>\n",
       "      <td>Politi søger vidner til knivstikkeri i Aalborg</td>\n",
       "      <td>//nyheder.tv2.dk/krimi/2020-10-09-politi-soger...</td>\n",
       "      <td>False</td>\n",
       "      <td>False</td>\n",
       "      <td>[politi, vidner, knivstikkeri, aalborg]</td>\n",
       "    </tr>\n",
       "    <tr>\n",
       "      <td>4</td>\n",
       "      <td>Knap 700 forskere råber op om sexisme på unive...</td>\n",
       "      <td>//nyheder.tv2.dk/samfund/2020-10-09-knap-700-f...</td>\n",
       "      <td>False</td>\n",
       "      <td>False</td>\n",
       "      <td>[forskere, råber, sexisme, universiteter]</td>\n",
       "    </tr>\n",
       "  </tbody>\n",
       "</table>\n",
       "</div>"
      ],
      "text/plain": [
       "                                               title  \\\n",
       "0                     Kong Harald opereret i hjertet   \n",
       "1  Tab af sanser er det tydeligste symptom på cor...   \n",
       "2  Donald Trump har et nyt bud på, hvordan han fi...   \n",
       "3     Politi søger vidner til knivstikkeri i Aalborg   \n",
       "4  Knap 700 forskere råber op om sexisme på unive...   \n",
       "\n",
       "                                                link  corona  trump  \\\n",
       "0                                /2020-10-09-lige-nu   False  False   \n",
       "1  //nyheder.tv2.dk/samfund/2020-10-09-tab-af-san...    True  False   \n",
       "2  //nyheder.tv2.dk/udland/2020-10-09-donald-trum...    True   True   \n",
       "3  //nyheder.tv2.dk/krimi/2020-10-09-politi-soger...   False  False   \n",
       "4  //nyheder.tv2.dk/samfund/2020-10-09-knap-700-f...   False  False   \n",
       "\n",
       "                                              tokens  \n",
       "0                                  [harald, hjertet]  \n",
       "1  [tab, sanser, tydeligste, symptom, coronavirus...  \n",
       "2                  [donald, trump, bud, coronavirus]  \n",
       "3            [politi, vidner, knivstikkeri, aalborg]  \n",
       "4          [forskere, råber, sexisme, universiteter]  "
      ]
     },
     "execution_count": 56,
     "metadata": {},
     "output_type": "execute_result"
    }
   ],
   "source": [
    "article_data['tokens'] = article_data['title'].apply(tokenize_function)\n",
    "\n",
    "article_data.head()"
   ]
  },
  {
   "cell_type": "markdown",
   "metadata": {},
   "source": [
    "Metoden `.explode()` splitter værdier i en liste og danner en ny række for hver værdi. På den måde opnås et tidy data sæt:"
   ]
  },
  {
   "cell_type": "code",
   "execution_count": 57,
   "metadata": {},
   "outputs": [
    {
     "data": {
      "text/html": [
       "<div>\n",
       "<style scoped>\n",
       "    .dataframe tbody tr th:only-of-type {\n",
       "        vertical-align: middle;\n",
       "    }\n",
       "\n",
       "    .dataframe tbody tr th {\n",
       "        vertical-align: top;\n",
       "    }\n",
       "\n",
       "    .dataframe thead th {\n",
       "        text-align: right;\n",
       "    }\n",
       "</style>\n",
       "<table border=\"1\" class=\"dataframe\">\n",
       "  <thead>\n",
       "    <tr style=\"text-align: right;\">\n",
       "      <th></th>\n",
       "      <th>title</th>\n",
       "      <th>link</th>\n",
       "      <th>corona</th>\n",
       "      <th>trump</th>\n",
       "      <th>tokens</th>\n",
       "    </tr>\n",
       "  </thead>\n",
       "  <tbody>\n",
       "    <tr>\n",
       "      <td>0</td>\n",
       "      <td>Kong Harald opereret i hjertet</td>\n",
       "      <td>/2020-10-09-lige-nu</td>\n",
       "      <td>False</td>\n",
       "      <td>False</td>\n",
       "      <td>harald</td>\n",
       "    </tr>\n",
       "    <tr>\n",
       "      <td>0</td>\n",
       "      <td>Kong Harald opereret i hjertet</td>\n",
       "      <td>/2020-10-09-lige-nu</td>\n",
       "      <td>False</td>\n",
       "      <td>False</td>\n",
       "      <td>hjertet</td>\n",
       "    </tr>\n",
       "    <tr>\n",
       "      <td>1</td>\n",
       "      <td>Tab af sanser er det tydeligste symptom på cor...</td>\n",
       "      <td>//nyheder.tv2.dk/samfund/2020-10-09-tab-af-san...</td>\n",
       "      <td>True</td>\n",
       "      <td>False</td>\n",
       "      <td>tab</td>\n",
       "    </tr>\n",
       "    <tr>\n",
       "      <td>1</td>\n",
       "      <td>Tab af sanser er det tydeligste symptom på cor...</td>\n",
       "      <td>//nyheder.tv2.dk/samfund/2020-10-09-tab-af-san...</td>\n",
       "      <td>True</td>\n",
       "      <td>False</td>\n",
       "      <td>sanser</td>\n",
       "    </tr>\n",
       "    <tr>\n",
       "      <td>1</td>\n",
       "      <td>Tab af sanser er det tydeligste symptom på cor...</td>\n",
       "      <td>//nyheder.tv2.dk/samfund/2020-10-09-tab-af-san...</td>\n",
       "      <td>True</td>\n",
       "      <td>False</td>\n",
       "      <td>tydeligste</td>\n",
       "    </tr>\n",
       "  </tbody>\n",
       "</table>\n",
       "</div>"
      ],
      "text/plain": [
       "                                               title  \\\n",
       "0                     Kong Harald opereret i hjertet   \n",
       "0                     Kong Harald opereret i hjertet   \n",
       "1  Tab af sanser er det tydeligste symptom på cor...   \n",
       "1  Tab af sanser er det tydeligste symptom på cor...   \n",
       "1  Tab af sanser er det tydeligste symptom på cor...   \n",
       "\n",
       "                                                link  corona  trump  \\\n",
       "0                                /2020-10-09-lige-nu   False  False   \n",
       "0                                /2020-10-09-lige-nu   False  False   \n",
       "1  //nyheder.tv2.dk/samfund/2020-10-09-tab-af-san...    True  False   \n",
       "1  //nyheder.tv2.dk/samfund/2020-10-09-tab-af-san...    True  False   \n",
       "1  //nyheder.tv2.dk/samfund/2020-10-09-tab-af-san...    True  False   \n",
       "\n",
       "       tokens  \n",
       "0      harald  \n",
       "0     hjertet  \n",
       "1         tab  \n",
       "1      sanser  \n",
       "1  tydeligste  "
      ]
     },
     "execution_count": 57,
     "metadata": {},
     "output_type": "execute_result"
    }
   ],
   "source": [
    "article_data = article_data.explode(column = 'tokens')\n",
    "\n",
    "article_data.head()"
   ]
  },
  {
   "cell_type": "markdown",
   "metadata": {},
   "source": [
    "Data er nu klar til at foretage forskellige optællinger. \n",
    "\n",
    "Hyppigste tokens:"
   ]
  },
  {
   "cell_type": "code",
   "execution_count": 58,
   "metadata": {},
   "outputs": [
    {
     "data": {
      "text/plain": [
       "østergaard               6\n",
       "bud                      5\n",
       "coronavirus              5\n",
       "trump                    5\n",
       "donald                   4\n",
       "                        ..\n",
       "kirgistans               1\n",
       "hadforbrydelse           1\n",
       "ligestillingsminister    1\n",
       "skud                     1\n",
       "stemmeboksene            1\n",
       "Name: tokens, Length: 146, dtype: int64"
      ]
     },
     "execution_count": 58,
     "metadata": {},
     "output_type": "execute_result"
    }
   ],
   "source": [
    "article_data['tokens'].value_counts()"
   ]
  },
  {
   "cell_type": "markdown",
   "metadata": {},
   "source": [
    "Tælling af tokens per titel:"
   ]
  },
  {
   "cell_type": "code",
   "execution_count": 59,
   "metadata": {},
   "outputs": [
    {
     "data": {
      "text/plain": [
       "title                                                                                tokens     \n",
       " 30 personer bortvist fra bodega                                                     bodega         2\n",
       "                                                                                     bortvist       2\n",
       "                                                                                     personer       2\n",
       "'Teori' kendt fra ny dansk film – hvad skal du drikke for at holde promille på 0,5?  dansk          1\n",
       "                                                                                     film           1\n",
       "                                                                                                   ..\n",
       "Østergaards exit var den rigtige beslutning, mener knap halvdelen af danskerne       danskerne      2\n",
       "                                                                                     exit           2\n",
       "                                                                                     halvdelen      2\n",
       "                                                                                     rigtige        2\n",
       "                                                                                     østergaards    2\n",
       "Length: 162, dtype: int64"
      ]
     },
     "execution_count": 59,
     "metadata": {},
     "output_type": "execute_result"
    }
   ],
   "source": [
    "article_data.groupby(['title', 'tokens']).size()"
   ]
  },
  {
   "cell_type": "markdown",
   "metadata": {},
   "source": [
    "### \"Hotte\" emner"
   ]
  },
  {
   "cell_type": "markdown",
   "metadata": {},
   "source": [
    "Lad os se, om vi kan udlede hvilke artikler, der skriver om dagens populære emner (ud fra overskrift)."
   ]
  },
  {
   "cell_type": "code",
   "execution_count": 60,
   "metadata": {},
   "outputs": [
    {
     "data": {
      "text/plain": [
       "['østergaard', 'bud', 'coronavirus', 'trump', 'donald']"
      ]
     },
     "execution_count": 60,
     "metadata": {},
     "output_type": "execute_result"
    }
   ],
   "source": [
    "hot_topics = list(article_data['tokens'].value_counts().index[0:5])\n",
    "hot_topics"
   ]
  },
  {
   "cell_type": "markdown",
   "metadata": {},
   "source": [
    "Nedenstående danner logiske variabel \"hot_topic\". Den er dannet ved at gå igennem hvert ord i `hot_topics` og tjekke, om titlen indeholder dette ord."
   ]
  },
  {
   "cell_type": "code",
   "execution_count": 61,
   "metadata": {},
   "outputs": [
    {
     "data": {
      "text/html": [
       "<div>\n",
       "<style scoped>\n",
       "    .dataframe tbody tr th:only-of-type {\n",
       "        vertical-align: middle;\n",
       "    }\n",
       "\n",
       "    .dataframe tbody tr th {\n",
       "        vertical-align: top;\n",
       "    }\n",
       "\n",
       "    .dataframe thead th {\n",
       "        text-align: right;\n",
       "    }\n",
       "</style>\n",
       "<table border=\"1\" class=\"dataframe\">\n",
       "  <thead>\n",
       "    <tr style=\"text-align: right;\">\n",
       "      <th></th>\n",
       "      <th>title</th>\n",
       "      <th>link</th>\n",
       "      <th>corona</th>\n",
       "      <th>trump</th>\n",
       "      <th>tokens</th>\n",
       "      <th>hot_topic</th>\n",
       "    </tr>\n",
       "  </thead>\n",
       "  <tbody>\n",
       "    <tr>\n",
       "      <td>0</td>\n",
       "      <td>Kong Harald opereret i hjertet</td>\n",
       "      <td>/2020-10-09-lige-nu</td>\n",
       "      <td>False</td>\n",
       "      <td>False</td>\n",
       "      <td>harald</td>\n",
       "      <td>False</td>\n",
       "    </tr>\n",
       "    <tr>\n",
       "      <td>0</td>\n",
       "      <td>Kong Harald opereret i hjertet</td>\n",
       "      <td>/2020-10-09-lige-nu</td>\n",
       "      <td>False</td>\n",
       "      <td>False</td>\n",
       "      <td>hjertet</td>\n",
       "      <td>False</td>\n",
       "    </tr>\n",
       "    <tr>\n",
       "      <td>1</td>\n",
       "      <td>Tab af sanser er det tydeligste symptom på cor...</td>\n",
       "      <td>//nyheder.tv2.dk/samfund/2020-10-09-tab-af-san...</td>\n",
       "      <td>True</td>\n",
       "      <td>False</td>\n",
       "      <td>tab</td>\n",
       "      <td>True</td>\n",
       "    </tr>\n",
       "    <tr>\n",
       "      <td>1</td>\n",
       "      <td>Tab af sanser er det tydeligste symptom på cor...</td>\n",
       "      <td>//nyheder.tv2.dk/samfund/2020-10-09-tab-af-san...</td>\n",
       "      <td>True</td>\n",
       "      <td>False</td>\n",
       "      <td>sanser</td>\n",
       "      <td>True</td>\n",
       "    </tr>\n",
       "    <tr>\n",
       "      <td>1</td>\n",
       "      <td>Tab af sanser er det tydeligste symptom på cor...</td>\n",
       "      <td>//nyheder.tv2.dk/samfund/2020-10-09-tab-af-san...</td>\n",
       "      <td>True</td>\n",
       "      <td>False</td>\n",
       "      <td>tydeligste</td>\n",
       "      <td>True</td>\n",
       "    </tr>\n",
       "  </tbody>\n",
       "</table>\n",
       "</div>"
      ],
      "text/plain": [
       "                                               title  \\\n",
       "0                     Kong Harald opereret i hjertet   \n",
       "0                     Kong Harald opereret i hjertet   \n",
       "1  Tab af sanser er det tydeligste symptom på cor...   \n",
       "1  Tab af sanser er det tydeligste symptom på cor...   \n",
       "1  Tab af sanser er det tydeligste symptom på cor...   \n",
       "\n",
       "                                                link  corona  trump  \\\n",
       "0                                /2020-10-09-lige-nu   False  False   \n",
       "0                                /2020-10-09-lige-nu   False  False   \n",
       "1  //nyheder.tv2.dk/samfund/2020-10-09-tab-af-san...    True  False   \n",
       "1  //nyheder.tv2.dk/samfund/2020-10-09-tab-af-san...    True  False   \n",
       "1  //nyheder.tv2.dk/samfund/2020-10-09-tab-af-san...    True  False   \n",
       "\n",
       "       tokens  hot_topic  \n",
       "0      harald      False  \n",
       "0     hjertet      False  \n",
       "1         tab       True  \n",
       "1      sanser       True  \n",
       "1  tydeligste       True  "
      ]
     },
     "execution_count": 61,
     "metadata": {},
     "output_type": "execute_result"
    }
   ],
   "source": [
    "article_data['hot_topic'] = False\n",
    "\n",
    "for topic in hot_topics:\n",
    "    article_data.loc[article_data['hot_topic'] != True, 'hot_topic'] = article_data.loc[article_data['hot_topic'] == False, 'title'].str.contains(topic)\n",
    "\n",
    "article_data.head()"
   ]
  },
  {
   "cell_type": "markdown",
   "metadata": {},
   "source": [
    "Vi kan derefter visualisere de hyppigste ord for de artikler, som omhandler de populære emner:"
   ]
  },
  {
   "cell_type": "code",
   "execution_count": 62,
   "metadata": {},
   "outputs": [
    {
     "data": {
      "text/plain": [
       "(-0.5, 399.5, 199.5, -0.5)"
      ]
     },
     "execution_count": 62,
     "metadata": {},
     "output_type": "execute_result"
    },
    {
     "data": {
      "image/png": "[encoded data removed]",
      "text/plain": [
       "<Figure size 432x288 with 1 Axes>"
      ]
     },
     "metadata": {
      "needs_background": "light"
     },
     "output_type": "display_data"
    }
   ],
   "source": [
    "hot_count = article_data.loc[article_data['hot_topic'] == True, :]['tokens'].value_counts()\n",
    "\n",
    "wc = WordCloud(background_color=\"white\")\n",
    "wc.fit_words(hot_count)\n",
    "\n",
    "plt.imshow(wc, interpolation=\"bilinear\")\n",
    "plt.axis(\"off\")"
   ]
  },
  {
   "cell_type": "markdown",
   "metadata": {},
   "source": [
    "# ØVELSE: Nøgleord fra tweets\n",
    "\n",
    "Udled nøgleord af datasættet \"pol-tweets-2020_sample\" (link).\n",
    "\n",
    "Undersøg hvem der særligt tweeter om nøgleordene.\n",
    "\n",
    "\n",
    "## LØSNING - Liste tilgang"
   ]
  },
  {
   "cell_type": "code",
   "execution_count": null,
   "metadata": {},
   "outputs": [],
   "source": []
  },
  {
   "cell_type": "markdown",
   "metadata": {},
   "source": [
    "## LØSNING - tidy data tilgang"
   ]
  },
  {
   "cell_type": "code",
   "execution_count": null,
   "metadata": {},
   "outputs": [],
   "source": []
  },
  {
   "cell_type": "markdown",
   "metadata": {},
   "source": [
    "## LØSNING - BONUS"
   ]
  },
  {
   "cell_type": "code",
   "execution_count": null,
   "metadata": {},
   "outputs": [],
   "source": []
  },
  {
   "cell_type": "markdown",
   "metadata": {},
   "source": [
    "# ØVELSE: Nøgleord fra overskrifter\n",
    "\n",
    "Udled nøgleord (mest populære tokens) af overskrifterne på Berlingske (https://www.berlingske.dk/nyheder)."
   ]
  }
 ],
 "metadata": {
  "kernelspec": {
   "display_name": "Python 3",
   "language": "python",
   "name": "python3"
  },
  "language_info": {
   "codemirror_mode": {
    "name": "ipython",
    "version": 3
   },
   "file_extension": ".py",
   "mimetype": "text/x-python",
   "name": "python",
   "nbconvert_exporter": "python",
   "pygments_lexer": "ipython3",
   "version": "3.7.4"
  }
 },
 "nbformat": 4,
 "nbformat_minor": 4
}
