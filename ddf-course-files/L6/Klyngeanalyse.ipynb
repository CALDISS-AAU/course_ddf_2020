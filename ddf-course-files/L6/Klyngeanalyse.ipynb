{
 "cells": [
  {
   "cell_type": "markdown",
   "metadata": {},
   "source": [
    "# Klyngeanalyse - en verden af mønstre"
   ]
  },
  {
   "cell_type": "markdown",
   "metadata": {},
   "source": [
    "I dag skal vi snakke om **klyngeanalyse**;\n",
    "\n",
    "Klyngeanalyse er et redskab til at finde system i al mulig data - det kan være ustruktureret data man ikke kan finde rundt i eller det kan være data der, på den ene eller anden måde, kunne tænkes at have et \"system\" i sig.\n",
    "\n",
    "Vi vil, med andre ord, gerne på opdagelse i data og vi vil gerne finde ukendte sammenhænge og systemer ved at gruppere data. Vi gider ikke finde det manuelt og oftest kan vi slet ikke - der er alt for meget støj og rod til, at vi kan overkomme det.\n",
    "\n",
    "Klyngeanalyse er en KÆMPE paraplybetegnelse for samtlige analyser, der benytter sig af algoritmer til at lave grupperinger.\n",
    "\n",
    "Berømte der er pjattede med klyngeanalyse:\n",
    "\n",
    "![tech-giants](https://4.bp.blogspot.com/-X7BHS66c1U8/UlX7OcLfnWI/AAAAAAAABnU/83lHDaDPeng/s1600/logos.png)"
   ]
  },
  {
   "cell_type": "markdown",
   "metadata": {},
   "source": [
    "Hvorfor er de pjattede med klyngeanalyse?\n",
    "\n",
    "Fordi der er penge i skidtet - en veludført klyngeanalyse kan hjælpe med at isolere de vigtige kunder, øge chancerne for mersalg drastisk og introducere specifikke segmenter til et særligt udvalg af produkter."
   ]
  },
  {
   "cell_type": "markdown",
   "metadata": {},
   "source": [
    "![old](https://www.fish-marketing.com/site/wp-content/uploads/2018/01/blog.jpg)"
   ]
  },
  {
   "cell_type": "markdown",
   "metadata": {},
   "source": [
    "Det første vi ALTID gør er at importere vores pakker. For fornuftig pakkehåndtering er der ikke noget værre end at importere pakker løbende - hvis vi har brug for en mere, så tilføjer vi det i nedenstående felt og kører det igen. Hvis der er random imports alle mulige steder mister vi total overblikket og kan ikke længere huske, hvor pokker vi importerer et eller andet, der måske konflikter med noget vi har brug for. Imports bor sammen. Imports elsker at have selskab af alle de andre imports. Næste gang du tilføjer en import midt i din notebook, så tænk på hvor ensom den bliver - helt alene for **forladt**"
   ]
  },
  {
   "cell_type": "code",
   "execution_count": 4,
   "metadata": {},
   "outputs": [],
   "source": [
    "import pandas as pd\n",
    "from matplotlib import pyplot as plt\n",
    "from sklearn.cluster import AgglomerativeClustering\n",
    "from scipy.cluster.hierarchy import dendrogram, linkage \n",
    "from sklearn import metrics\n",
    "from sklearn.metrics import davies_bouldin_score\n",
    "import seaborn as sns"
   ]
  },
  {
   "cell_type": "markdown",
   "metadata": {},
   "source": [
    "Ovenstående er:\n",
    "\n",
    "Dem vi kender:\n",
    "* Pandas\n",
    "* Matplotlib\n",
    "\n",
    "Dem vi ikke kender:\n",
    "* Scikit-learn (her sklearn)\n",
    "* Scipy"
   ]
  },
  {
   "cell_type": "markdown",
   "metadata": {},
   "source": [
    "De nye legekammerater er begge to pakker til videnskabelig, computationel metode.\n",
    "\n",
    "*Scipy* er en magisk pakke - lidt ligesom numpy - som indeholder helt vildt mange funktioner brugt af matematikere, men det tilbyder også værktøjer til os dødelige.\n",
    "\n",
    "*Scikit-learn* er en pakke specifikt designet til machine learning før pakker som *Tensorflow/Keras* og *PyTorch* overtog scenen. Hvor de sidstnævnte har voldsomt fokus på de superviserede maskinlæringstyper (Support Vector Machines, Random Forrests, Neurale Netværk), så har Scikit-Learn et godt miks af alt muligt og er klart en af de bedste biblioteker til klyngeanalyser. \n",
    "\n",
    "Vi bruger ikke Seaborn i dag - de døjer voldsomt med dendogrammer, som praktisk talt er den eneste ting vi kan bruge i dag ift. grafik."
   ]
  },
  {
   "cell_type": "markdown",
   "metadata": {},
   "source": [
    "Data til i dag er en klassiker i socialvidenskab; værdiundersøgelsen (... godt nok fra 1999, men den er så intuitiv at arbejde med, så vi forsøger os lidt frem).\n",
    "\n",
    "Data ligger på nedenstående link - bemærk, at der også er et repository til min Svend Brinkmann generator som i meget gerne må lege løs med."
   ]
  },
  {
   "cell_type": "code",
   "execution_count": 2,
   "metadata": {},
   "outputs": [],
   "source": [
    "df=pd.read_csv(\"https://github.com/RolfLund/DDF/raw/main/data.csv\")"
   ]
  },
  {
   "cell_type": "code",
   "execution_count": 3,
   "metadata": {},
   "outputs": [
    {
     "data": {
      "text/html": [
       "<div>\n",
       "<style scoped>\n",
       "    .dataframe tbody tr th:only-of-type {\n",
       "        vertical-align: middle;\n",
       "    }\n",
       "\n",
       "    .dataframe tbody tr th {\n",
       "        vertical-align: top;\n",
       "    }\n",
       "\n",
       "    .dataframe thead th {\n",
       "        text-align: right;\n",
       "    }\n",
       "</style>\n",
       "<table border=\"1\" class=\"dataframe\">\n",
       "  <thead>\n",
       "    <tr style=\"text-align: right;\">\n",
       "      <th></th>\n",
       "      <th>gender</th>\n",
       "      <th>income</th>\n",
       "      <th>criminals</th>\n",
       "      <th>diffrace</th>\n",
       "      <th>leftwings</th>\n",
       "      <th>alcoholics</th>\n",
       "      <th>rightwings</th>\n",
       "      <th>manykids</th>\n",
       "      <th>neurotics</th>\n",
       "      <th>muslims</th>\n",
       "      <th>imigrants</th>\n",
       "      <th>aids</th>\n",
       "      <th>addicts</th>\n",
       "      <th>homoseksuals</th>\n",
       "      <th>jews</th>\n",
       "      <th>gypsies</th>\n",
       "      <th>age</th>\n",
       "      <th>edu</th>\n",
       "      <th>id</th>\n",
       "    </tr>\n",
       "  </thead>\n",
       "  <tbody>\n",
       "    <tr>\n",
       "      <td>0</td>\n",
       "      <td>2</td>\n",
       "      <td>900000</td>\n",
       "      <td>0</td>\n",
       "      <td>0</td>\n",
       "      <td>0</td>\n",
       "      <td>0</td>\n",
       "      <td>1</td>\n",
       "      <td>0</td>\n",
       "      <td>0</td>\n",
       "      <td>0</td>\n",
       "      <td>0</td>\n",
       "      <td>0</td>\n",
       "      <td>0</td>\n",
       "      <td>0</td>\n",
       "      <td>0</td>\n",
       "      <td>0</td>\n",
       "      <td>48</td>\n",
       "      <td>4</td>\n",
       "      <td>1</td>\n",
       "    </tr>\n",
       "    <tr>\n",
       "      <td>1</td>\n",
       "      <td>1</td>\n",
       "      <td>180000</td>\n",
       "      <td>0</td>\n",
       "      <td>0</td>\n",
       "      <td>0</td>\n",
       "      <td>0</td>\n",
       "      <td>1</td>\n",
       "      <td>0</td>\n",
       "      <td>1</td>\n",
       "      <td>0</td>\n",
       "      <td>0</td>\n",
       "      <td>0</td>\n",
       "      <td>0</td>\n",
       "      <td>0</td>\n",
       "      <td>0</td>\n",
       "      <td>0</td>\n",
       "      <td>30</td>\n",
       "      <td>4</td>\n",
       "      <td>2</td>\n",
       "    </tr>\n",
       "    <tr>\n",
       "      <td>2</td>\n",
       "      <td>1</td>\n",
       "      <td>600000</td>\n",
       "      <td>0</td>\n",
       "      <td>0</td>\n",
       "      <td>0</td>\n",
       "      <td>0</td>\n",
       "      <td>0</td>\n",
       "      <td>0</td>\n",
       "      <td>0</td>\n",
       "      <td>0</td>\n",
       "      <td>0</td>\n",
       "      <td>0</td>\n",
       "      <td>0</td>\n",
       "      <td>0</td>\n",
       "      <td>0</td>\n",
       "      <td>0</td>\n",
       "      <td>57</td>\n",
       "      <td>3</td>\n",
       "      <td>3</td>\n",
       "    </tr>\n",
       "    <tr>\n",
       "      <td>3</td>\n",
       "      <td>2</td>\n",
       "      <td>180000</td>\n",
       "      <td>1</td>\n",
       "      <td>0</td>\n",
       "      <td>0</td>\n",
       "      <td>1</td>\n",
       "      <td>0</td>\n",
       "      <td>0</td>\n",
       "      <td>0</td>\n",
       "      <td>0</td>\n",
       "      <td>0</td>\n",
       "      <td>0</td>\n",
       "      <td>1</td>\n",
       "      <td>0</td>\n",
       "      <td>0</td>\n",
       "      <td>0</td>\n",
       "      <td>55</td>\n",
       "      <td>0</td>\n",
       "      <td>4</td>\n",
       "    </tr>\n",
       "    <tr>\n",
       "      <td>4</td>\n",
       "      <td>2</td>\n",
       "      <td>60000</td>\n",
       "      <td>0</td>\n",
       "      <td>0</td>\n",
       "      <td>0</td>\n",
       "      <td>0</td>\n",
       "      <td>0</td>\n",
       "      <td>0</td>\n",
       "      <td>0</td>\n",
       "      <td>0</td>\n",
       "      <td>0</td>\n",
       "      <td>0</td>\n",
       "      <td>1</td>\n",
       "      <td>0</td>\n",
       "      <td>0</td>\n",
       "      <td>0</td>\n",
       "      <td>21</td>\n",
       "      <td>0</td>\n",
       "      <td>5</td>\n",
       "    </tr>\n",
       "  </tbody>\n",
       "</table>\n",
       "</div>"
      ],
      "text/plain": [
       "   gender  income  criminals  diffrace  leftwings  alcoholics  rightwings  \\\n",
       "0       2  900000          0         0          0           0           1   \n",
       "1       1  180000          0         0          0           0           1   \n",
       "2       1  600000          0         0          0           0           0   \n",
       "3       2  180000          1         0          0           1           0   \n",
       "4       2   60000          0         0          0           0           0   \n",
       "\n",
       "   manykids  neurotics  muslims  imigrants  aids  addicts  homoseksuals  jews  \\\n",
       "0         0          0        0          0     0        0             0     0   \n",
       "1         0          1        0          0     0        0             0     0   \n",
       "2         0          0        0          0     0        0             0     0   \n",
       "3         0          0        0          0     0        1             0     0   \n",
       "4         0          0        0          0     0        1             0     0   \n",
       "\n",
       "   gypsies  age  edu  id  \n",
       "0        0   48    4   1  \n",
       "1        0   30    4   2  \n",
       "2        0   57    3   3  \n",
       "3        0   55    0   4  \n",
       "4        0   21    0   5  "
      ]
     },
     "execution_count": 3,
     "metadata": {},
     "output_type": "execute_result"
    }
   ],
   "source": [
    "df.head()"
   ]
  },
  {
   "cell_type": "markdown",
   "metadata": {},
   "source": [
    "## Turbo-øvelse og et brush-up;\n",
    "\n",
    "- Undersøg data med særlig henblik på at finde ud af, om vi selv kan danne et overblik over, om der er nogle grupper der ikke kan lide at bo ved siden af nogle af de grupperinger der er defineret i vore dataframe.\n",
    "- Hvilke værktøjer har vi til rådighed fra sidst som kunne hjælpe os lidt?"
   ]
  },
  {
   "cell_type": "code",
   "execution_count": 5,
   "metadata": {},
   "outputs": [
    {
     "data": {
      "text/html": [
       "<div>\n",
       "<style scoped>\n",
       "    .dataframe tbody tr th:only-of-type {\n",
       "        vertical-align: middle;\n",
       "    }\n",
       "\n",
       "    .dataframe tbody tr th {\n",
       "        vertical-align: top;\n",
       "    }\n",
       "\n",
       "    .dataframe thead th {\n",
       "        text-align: right;\n",
       "    }\n",
       "</style>\n",
       "<table border=\"1\" class=\"dataframe\">\n",
       "  <thead>\n",
       "    <tr style=\"text-align: right;\">\n",
       "      <th></th>\n",
       "      <th></th>\n",
       "      <th>income</th>\n",
       "      <th>criminals</th>\n",
       "      <th>diffrace</th>\n",
       "      <th>leftwings</th>\n",
       "      <th>alcoholics</th>\n",
       "      <th>rightwings</th>\n",
       "      <th>manykids</th>\n",
       "      <th>neurotics</th>\n",
       "      <th>muslims</th>\n",
       "      <th>imigrants</th>\n",
       "      <th>aids</th>\n",
       "      <th>addicts</th>\n",
       "      <th>homoseksuals</th>\n",
       "      <th>jews</th>\n",
       "      <th>gypsies</th>\n",
       "      <th>age</th>\n",
       "      <th>id</th>\n",
       "    </tr>\n",
       "    <tr>\n",
       "      <th>edu</th>\n",
       "      <th>gender</th>\n",
       "      <th></th>\n",
       "      <th></th>\n",
       "      <th></th>\n",
       "      <th></th>\n",
       "      <th></th>\n",
       "      <th></th>\n",
       "      <th></th>\n",
       "      <th></th>\n",
       "      <th></th>\n",
       "      <th></th>\n",
       "      <th></th>\n",
       "      <th></th>\n",
       "      <th></th>\n",
       "      <th></th>\n",
       "      <th></th>\n",
       "      <th></th>\n",
       "      <th></th>\n",
       "    </tr>\n",
       "  </thead>\n",
       "  <tbody>\n",
       "    <tr>\n",
       "      <td rowspan=\"2\" valign=\"top\">0</td>\n",
       "      <td>1</td>\n",
       "      <td>312434.343434</td>\n",
       "      <td>0.292929</td>\n",
       "      <td>0.060606</td>\n",
       "      <td>0.070707</td>\n",
       "      <td>0.262626</td>\n",
       "      <td>0.131313</td>\n",
       "      <td>0.010101</td>\n",
       "      <td>0.111111</td>\n",
       "      <td>0.161616</td>\n",
       "      <td>0.121212</td>\n",
       "      <td>0.040404</td>\n",
       "      <td>0.575758</td>\n",
       "      <td>0.131313</td>\n",
       "      <td>0.030303</td>\n",
       "      <td>0.131313</td>\n",
       "      <td>47.242424</td>\n",
       "      <td>443.404040</td>\n",
       "    </tr>\n",
       "    <tr>\n",
       "      <td>2</td>\n",
       "      <td>295356.433071</td>\n",
       "      <td>0.346457</td>\n",
       "      <td>0.094488</td>\n",
       "      <td>0.078740</td>\n",
       "      <td>0.409449</td>\n",
       "      <td>0.157480</td>\n",
       "      <td>0.055118</td>\n",
       "      <td>0.133858</td>\n",
       "      <td>0.251969</td>\n",
       "      <td>0.188976</td>\n",
       "      <td>0.118110</td>\n",
       "      <td>0.606299</td>\n",
       "      <td>0.110236</td>\n",
       "      <td>0.047244</td>\n",
       "      <td>0.212598</td>\n",
       "      <td>51.055118</td>\n",
       "      <td>454.803150</td>\n",
       "    </tr>\n",
       "    <tr>\n",
       "      <td rowspan=\"2\" valign=\"top\">1</td>\n",
       "      <td>1</td>\n",
       "      <td>395940.289941</td>\n",
       "      <td>0.313609</td>\n",
       "      <td>0.112426</td>\n",
       "      <td>0.112426</td>\n",
       "      <td>0.337278</td>\n",
       "      <td>0.165680</td>\n",
       "      <td>0.011834</td>\n",
       "      <td>0.124260</td>\n",
       "      <td>0.278107</td>\n",
       "      <td>0.118343</td>\n",
       "      <td>0.071006</td>\n",
       "      <td>0.568047</td>\n",
       "      <td>0.136095</td>\n",
       "      <td>0.047337</td>\n",
       "      <td>0.207101</td>\n",
       "      <td>47.224852</td>\n",
       "      <td>450.544379</td>\n",
       "    </tr>\n",
       "    <tr>\n",
       "      <td>2</td>\n",
       "      <td>342100.000000</td>\n",
       "      <td>0.320000</td>\n",
       "      <td>0.070000</td>\n",
       "      <td>0.050000</td>\n",
       "      <td>0.310000</td>\n",
       "      <td>0.160000</td>\n",
       "      <td>0.040000</td>\n",
       "      <td>0.120000</td>\n",
       "      <td>0.120000</td>\n",
       "      <td>0.130000</td>\n",
       "      <td>0.020000</td>\n",
       "      <td>0.560000</td>\n",
       "      <td>0.030000</td>\n",
       "      <td>0.000000</td>\n",
       "      <td>0.130000</td>\n",
       "      <td>45.680000</td>\n",
       "      <td>445.410000</td>\n",
       "    </tr>\n",
       "    <tr>\n",
       "      <td rowspan=\"2\" valign=\"top\">2</td>\n",
       "      <td>1</td>\n",
       "      <td>401923.076923</td>\n",
       "      <td>0.269231</td>\n",
       "      <td>0.076923</td>\n",
       "      <td>0.346154</td>\n",
       "      <td>0.423077</td>\n",
       "      <td>0.269231</td>\n",
       "      <td>0.153846</td>\n",
       "      <td>0.269231</td>\n",
       "      <td>0.192308</td>\n",
       "      <td>0.115385</td>\n",
       "      <td>0.038462</td>\n",
       "      <td>0.576923</td>\n",
       "      <td>0.076923</td>\n",
       "      <td>0.000000</td>\n",
       "      <td>0.115385</td>\n",
       "      <td>42.115385</td>\n",
       "      <td>434.807692</td>\n",
       "    </tr>\n",
       "    <tr>\n",
       "      <td>2</td>\n",
       "      <td>366679.245283</td>\n",
       "      <td>0.490566</td>\n",
       "      <td>0.094340</td>\n",
       "      <td>0.037736</td>\n",
       "      <td>0.396226</td>\n",
       "      <td>0.283019</td>\n",
       "      <td>0.037736</td>\n",
       "      <td>0.207547</td>\n",
       "      <td>0.169811</td>\n",
       "      <td>0.132075</td>\n",
       "      <td>0.037736</td>\n",
       "      <td>0.641509</td>\n",
       "      <td>0.037736</td>\n",
       "      <td>0.018868</td>\n",
       "      <td>0.188679</td>\n",
       "      <td>45.000000</td>\n",
       "      <td>488.113208</td>\n",
       "    </tr>\n",
       "    <tr>\n",
       "      <td rowspan=\"2\" valign=\"top\">3</td>\n",
       "      <td>1</td>\n",
       "      <td>425056.603774</td>\n",
       "      <td>0.216981</td>\n",
       "      <td>0.066038</td>\n",
       "      <td>0.113208</td>\n",
       "      <td>0.386792</td>\n",
       "      <td>0.301887</td>\n",
       "      <td>0.056604</td>\n",
       "      <td>0.132075</td>\n",
       "      <td>0.122642</td>\n",
       "      <td>0.056604</td>\n",
       "      <td>0.028302</td>\n",
       "      <td>0.594340</td>\n",
       "      <td>0.037736</td>\n",
       "      <td>0.018868</td>\n",
       "      <td>0.103774</td>\n",
       "      <td>44.698113</td>\n",
       "      <td>475.150943</td>\n",
       "    </tr>\n",
       "    <tr>\n",
       "      <td>2</td>\n",
       "      <td>466536.742424</td>\n",
       "      <td>0.280303</td>\n",
       "      <td>0.022727</td>\n",
       "      <td>0.075758</td>\n",
       "      <td>0.340909</td>\n",
       "      <td>0.234848</td>\n",
       "      <td>0.030303</td>\n",
       "      <td>0.159091</td>\n",
       "      <td>0.053030</td>\n",
       "      <td>0.053030</td>\n",
       "      <td>0.030303</td>\n",
       "      <td>0.598485</td>\n",
       "      <td>0.015152</td>\n",
       "      <td>0.000000</td>\n",
       "      <td>0.113636</td>\n",
       "      <td>41.545455</td>\n",
       "      <td>438.598485</td>\n",
       "    </tr>\n",
       "    <tr>\n",
       "      <td rowspan=\"2\" valign=\"top\">4</td>\n",
       "      <td>1</td>\n",
       "      <td>452495.918367</td>\n",
       "      <td>0.326531</td>\n",
       "      <td>0.040816</td>\n",
       "      <td>0.102041</td>\n",
       "      <td>0.469388</td>\n",
       "      <td>0.367347</td>\n",
       "      <td>0.061224</td>\n",
       "      <td>0.183673</td>\n",
       "      <td>0.040816</td>\n",
       "      <td>0.040816</td>\n",
       "      <td>0.102041</td>\n",
       "      <td>0.612245</td>\n",
       "      <td>0.102041</td>\n",
       "      <td>0.020408</td>\n",
       "      <td>0.102041</td>\n",
       "      <td>42.877551</td>\n",
       "      <td>469.938776</td>\n",
       "    </tr>\n",
       "    <tr>\n",
       "      <td>2</td>\n",
       "      <td>470897.435897</td>\n",
       "      <td>0.153846</td>\n",
       "      <td>0.000000</td>\n",
       "      <td>0.051282</td>\n",
       "      <td>0.384615</td>\n",
       "      <td>0.256410</td>\n",
       "      <td>0.025641</td>\n",
       "      <td>0.128205</td>\n",
       "      <td>0.000000</td>\n",
       "      <td>0.000000</td>\n",
       "      <td>0.025641</td>\n",
       "      <td>0.666667</td>\n",
       "      <td>0.000000</td>\n",
       "      <td>0.000000</td>\n",
       "      <td>0.076923</td>\n",
       "      <td>38.666667</td>\n",
       "      <td>375.564103</td>\n",
       "    </tr>\n",
       "  </tbody>\n",
       "</table>\n",
       "</div>"
      ],
      "text/plain": [
       "                   income  criminals  diffrace  leftwings  alcoholics  \\\n",
       "edu gender                                                              \n",
       "0   1       312434.343434   0.292929  0.060606   0.070707    0.262626   \n",
       "    2       295356.433071   0.346457  0.094488   0.078740    0.409449   \n",
       "1   1       395940.289941   0.313609  0.112426   0.112426    0.337278   \n",
       "    2       342100.000000   0.320000  0.070000   0.050000    0.310000   \n",
       "2   1       401923.076923   0.269231  0.076923   0.346154    0.423077   \n",
       "    2       366679.245283   0.490566  0.094340   0.037736    0.396226   \n",
       "3   1       425056.603774   0.216981  0.066038   0.113208    0.386792   \n",
       "    2       466536.742424   0.280303  0.022727   0.075758    0.340909   \n",
       "4   1       452495.918367   0.326531  0.040816   0.102041    0.469388   \n",
       "    2       470897.435897   0.153846  0.000000   0.051282    0.384615   \n",
       "\n",
       "            rightwings  manykids  neurotics   muslims  imigrants      aids  \\\n",
       "edu gender                                                                   \n",
       "0   1         0.131313  0.010101   0.111111  0.161616   0.121212  0.040404   \n",
       "    2         0.157480  0.055118   0.133858  0.251969   0.188976  0.118110   \n",
       "1   1         0.165680  0.011834   0.124260  0.278107   0.118343  0.071006   \n",
       "    2         0.160000  0.040000   0.120000  0.120000   0.130000  0.020000   \n",
       "2   1         0.269231  0.153846   0.269231  0.192308   0.115385  0.038462   \n",
       "    2         0.283019  0.037736   0.207547  0.169811   0.132075  0.037736   \n",
       "3   1         0.301887  0.056604   0.132075  0.122642   0.056604  0.028302   \n",
       "    2         0.234848  0.030303   0.159091  0.053030   0.053030  0.030303   \n",
       "4   1         0.367347  0.061224   0.183673  0.040816   0.040816  0.102041   \n",
       "    2         0.256410  0.025641   0.128205  0.000000   0.000000  0.025641   \n",
       "\n",
       "             addicts  homoseksuals      jews   gypsies        age          id  \n",
       "edu gender                                                                     \n",
       "0   1       0.575758      0.131313  0.030303  0.131313  47.242424  443.404040  \n",
       "    2       0.606299      0.110236  0.047244  0.212598  51.055118  454.803150  \n",
       "1   1       0.568047      0.136095  0.047337  0.207101  47.224852  450.544379  \n",
       "    2       0.560000      0.030000  0.000000  0.130000  45.680000  445.410000  \n",
       "2   1       0.576923      0.076923  0.000000  0.115385  42.115385  434.807692  \n",
       "    2       0.641509      0.037736  0.018868  0.188679  45.000000  488.113208  \n",
       "3   1       0.594340      0.037736  0.018868  0.103774  44.698113  475.150943  \n",
       "    2       0.598485      0.015152  0.000000  0.113636  41.545455  438.598485  \n",
       "4   1       0.612245      0.102041  0.020408  0.102041  42.877551  469.938776  \n",
       "    2       0.666667      0.000000  0.000000  0.076923  38.666667  375.564103  "
      ]
     },
     "execution_count": 5,
     "metadata": {},
     "output_type": "execute_result"
    }
   ],
   "source": [
    "df.groupby([\"edu\", \"gender\"]).mean()"
   ]
  },
  {
   "cell_type": "code",
   "execution_count": 6,
   "metadata": {},
   "outputs": [
    {
     "ename": "NameError",
     "evalue": "name 'x' is not defined",
     "output_type": "error",
     "traceback": [
      "\u001b[0;31m---------------------------------------------------------------------------\u001b[0m",
      "\u001b[0;31mNameError\u001b[0m                                 Traceback (most recent call last)",
      "\u001b[0;32m<ipython-input-6-00b9f34a1e3b>\u001b[0m in \u001b[0;36m<module>\u001b[0;34m\u001b[0m\n\u001b[1;32m      3\u001b[0m \u001b[0max\u001b[0m \u001b[0;34m=\u001b[0m \u001b[0msns\u001b[0m\u001b[0;34m.\u001b[0m\u001b[0mheatmap\u001b[0m\u001b[0;34m(\u001b[0m\u001b[0mdf\u001b[0m\u001b[0;34m.\u001b[0m\u001b[0mcorr\u001b[0m\u001b[0;34m(\u001b[0m\u001b[0;34m)\u001b[0m\u001b[0;34m,\u001b[0m \u001b[0mannot\u001b[0m\u001b[0;34m=\u001b[0m \u001b[0;32mFalse\u001b[0m\u001b[0;34m)\u001b[0m\u001b[0;34m\u001b[0m\u001b[0;34m\u001b[0m\u001b[0m\n\u001b[1;32m      4\u001b[0m \u001b[0mbottom\u001b[0m\u001b[0;34m,\u001b[0m \u001b[0mtop\u001b[0m \u001b[0;34m=\u001b[0m \u001b[0max\u001b[0m\u001b[0;34m.\u001b[0m\u001b[0mget_ylim\u001b[0m\u001b[0;34m(\u001b[0m\u001b[0;34m)\u001b[0m\u001b[0;34m\u001b[0m\u001b[0;34m\u001b[0m\u001b[0m\n\u001b[0;32m----> 5\u001b[0;31m \u001b[0mx\u001b[0m\u001b[0;34m.\u001b[0m\u001b[0mset_ylim\u001b[0m\u001b[0;34m(\u001b[0m\u001b[0mbottom\u001b[0m \u001b[0;34m+\u001b[0m \u001b[0;36m.5\u001b[0m\u001b[0;34m,\u001b[0m \u001b[0mtop\u001b[0m \u001b[0;34m-\u001b[0m \u001b[0;36m.5\u001b[0m\u001b[0;34m)\u001b[0m\u001b[0;34m\u001b[0m\u001b[0;34m\u001b[0m\u001b[0m\n\u001b[0m\u001b[1;32m      6\u001b[0m \u001b[0mplt\u001b[0m\u001b[0;34m.\u001b[0m\u001b[0mtitle\u001b[0m\u001b[0;34m(\u001b[0m\u001b[0;34m'Correlation Between Columns'\u001b[0m\u001b[0;34m,\u001b[0m \u001b[0mfontsize\u001b[0m\u001b[0;34m=\u001b[0m \u001b[0;36m14\u001b[0m\u001b[0;34m,\u001b[0m \u001b[0mcolor\u001b[0m\u001b[0;34m=\u001b[0m \u001b[0;34m'blue'\u001b[0m\u001b[0;34m)\u001b[0m\u001b[0;34m\u001b[0m\u001b[0;34m\u001b[0m\u001b[0m\n",
      "\u001b[0;31mNameError\u001b[0m: name 'x' is not defined"
     ]
    },
    {
     "data": {
      "image/png": "[encoded data removed]",
      "text/plain": [
       "<Figure size 950x760 with 2 Axes>"
      ]
     },
     "metadata": {
      "needs_background": "light"
     },
     "output_type": "display_data"
    }
   ],
   "source": [
    "plt.figure(figsize=[10,8], dpi= 95)\n",
    " \n",
    "ax = sns.heatmap(df.corr(), annot= False)\n",
    "bottom, top = ax.get_ylim()\n",
    "x.set_ylim(bottom + .5, top - .5)\n",
    "plt.title('Correlation Between Columns', fontsize= 14, color= 'blue')"
   ]
  },
  {
   "cell_type": "code",
   "execution_count": 9,
   "metadata": {},
   "outputs": [
    {
     "data": {
      "text/plain": [
       "Text(0.5, 1.0, 'Frygt for nabo af anden etnisk herkomst')"
      ]
     },
     "execution_count": 9,
     "metadata": {},
     "output_type": "execute_result"
    },
    {
     "data": {
      "image/png": "[encoded data removed]",
      "text/plain": [
       "<Figure size 432x288 with 1 Axes>"
      ]
     },
     "metadata": {
      "needs_background": "light"
     },
     "output_type": "display_data"
    }
   ],
   "source": [
    "df['agecat'] = pd.cut(df['age'], 7)\n",
    "grouped_df = df.groupby(['gender', 'agecat']) #gruppering efter gender og agecat\n",
    "grouped_df['diffrace'].mean().plot.bar() #Nabo af anden etnisk herkomst\n",
    "plt.xlabel('Køn og aldersgruppe')\n",
    "plt.ylabel('Grad af frygt')\n",
    "plt.title('Frygt for nabo af anden etnisk herkomst')"
   ]
  },
  {
   "cell_type": "markdown",
   "metadata": {},
   "source": [
    "\n",
    "\n",
    "# En mere automatiseret version\n",
    "\n",
    "\n",
    "Vi har nu erfaret, at der i hvert fald er en eller anden forskel, men vi vil gerne automatisere det lidt. Måske endda lege et en usuperviseret machinelearning-form kaldet Klyngeanalyse!"
   ]
  },
  {
   "cell_type": "markdown",
   "metadata": {},
   "source": [
    "Der er to overordnede ting vi skal forholde os til før vi gør noget som helst smart med computere. Vi skal forholde os til:\n",
    "\n",
    "<h2><center>Afstand</center></h2>\n",
    "<h2><center>Sammenlægning</center></h2>"
   ]
  },
  {
   "cell_type": "markdown",
   "metadata": {},
   "source": [
    "Vi starter med afstand. Afstand er, i sin kerne, super simpelt. Hvor langt er der fra person 1's svar til person 2's?\n",
    "\n",
    "Hvis vi leger, at et spørgsmål her kunne være: \"På en skala fra 1 til 5, hvor godt kan du så lide jordbæris?\"\n",
    "\n",
    "Personernes svar er her:\n",
    "\n",
    "|Person  |Jordbæris|\n",
    "|--------|---------|\n",
    "|Person 1|4        |\n",
    "|Person 2|5        |\n",
    "\n",
    "Hvad er så afstanden mellem 4 og 5? 1!\n",
    "\n",
    "Det samme kan vi gøre hvis vi tilføjer flere personer, men så bliver det også tydeligere, at tabellen med afstande hurtigt bliver stor.\n",
    "\n",
    "|Person  |Jordbæris|\n",
    "|--------|---------|\n",
    "|Person 1|4        |\n",
    "|Person 2|5        |\n",
    "|Person 3|2        |\n",
    "\n",
    "Og igen endnu større hvis vi tager flere spørgsmål med:\n",
    "\n",
    "|Person  |Jordbæris|Chokoladeis|\n",
    "|--------|---------|-----------|\n",
    "|Person 1|4        |4          |\n",
    "|Person 2|5        |3          |\n",
    "|Person 3|2        |5          |\n"
   ]
  },
  {
   "cell_type": "markdown",
   "metadata": {},
   "source": [
    "Det bliver meget hurtigt super uoverskueligt og vi skal til at forholde os til, at data også får flere dimensioner. Ved afstand til et spørgsmål ser en matrice med bare 6 personer sådan her ud:\n",
    "\n",
    "![matrix](https://people.revoledu.com/kardi/tutorial/Clustering/image/Numerical%20Example_clip_image004.jpg)\n",
    "\n",
    "Ved 2 spørgsmål får vi pludselig:\n",
    "\n",
    "![multimatrix](https://i.stack.imgur.com/EQOra.png)\n",
    "\n",
    "Og ved flere begynder vores hjerne ikke længere at kunne rumme hvad pokker det er der foregår... i hvert fald ikke visuelt.\n",
    "\n",
    "Det vi skal vide er, at jo flere spørgsmål, jo større bliver vores matrice fordi vi skal udregne afstande fra hver persons svar på hvert spørgsmål i datasættet til samtlige andre persons svar på spørgsmål.\n",
    "\n",
    "Anden forhindring; kan i huske da jeg sagde, at afstanden mellem 4 og 5 var 1? Det er den (ca.), hvis vi bruger det mest gængse mål for afstand; euklidisk afstand: \n"
   ]
  },
  {
   "cell_type": "markdown",
   "metadata": {},
   "source": [
    "![distance](https://wikimedia.org/api/rest_v1/media/math/render/svg/795b967db2917cdde7c2da2d1ee327eb673276c0)"
   ]
  },
  {
   "cell_type": "markdown",
   "metadata": {},
   "source": [
    "Euklidisk afstand er også kaldet \"fugleflugt\" fordi afstanden er det samme som en streg mellem de to punkter vi ønsker at finde.\n",
    "\n",
    "De absolut mest gængse mål for afstand er euklidisk afstand og $euklidisk^2$. Eneste forskel er her, at den afstand vi finder mellem to svar er følgende; hvis afstanden, som før, er mellem 4 og 5 (1) bliver resultatet $1^2=1$ mens afstanden mellem 2 og 5 bliver $3^2=9$"
   ]
  },
  {
   "cell_type": "markdown",
   "metadata": {},
   "source": [
    "## Kort øvelse:\n",
    "\n",
    "* Hvad er forskellen mellem at bruge $L$ og $L^2$ i praksis?\n",
    "* Hvorfor tror i, at man kunne finde $L^2$ anvendelig og hvornår?\n",
    "\n",
    "\n",
    "\n",
    "# Kort om typer af klyngeanalyser\n",
    "\n",
    "Der findes to overordnede typer af klyngeanalyser\n",
    "* Hierarkisk\n",
    "* Ikke-hierarkisk\n",
    "\n",
    "... jeg er godt med på, at den ene bare er en negation af den anden, men den har ikke et fedt navn :(\n",
    "\n",
    "![hier](https://new.pharmacelera.com/wp-content/uploads/2019/08/clusters-1024x530.png)\n",
    "\n",
    "Vi gider ikke at lege med ikke-hierarkiske klynger... det er poopy fordi vi skal definere antal klynger på forhånd og mister store dele af vores eksplorative tilgang til det, så den skipper vi helt.\n",
    "\n",
    "Efter det skal vi forholde os til to forskellige måder at håndtere klyngedannelse på:\n",
    "\n",
    "* Divisiv\n",
    "* Agglomerativ\n",
    "\n",
    "![divagg](https://cdn.educba.com/academy/wp-content/uploads/2019/11/Hierarchical-Clustering-Analysis.png)\n",
    "\n",
    "Den ene bygger på en antagelse om, at data starter som en stor klump og skal splittes op (mest brugt ved en meget homogen masse) mens den anden starter med at anse hver komponent som unik og alt derefter bliver små sammenlægninger. Langt de fleste socialvidenskabere (der ikke har solgt sin sjæl til den ekstremt hurtige og noget mere brutale k-means) bruger agglomerativ, hierarkisk klyngeanalyse."
   ]
  },
  {
   "cell_type": "markdown",
   "metadata": {},
   "source": [
    "# Sammenlægning\n",
    "\n",
    "Selve måden hvorpå klyngerne dannes er det andet store punkt i klyngeanalyse. Vi har afstandsmålene, men nu skal vi undersøge, om vi kan finde grupper af personer, der deler afstande og som er anderledes end andre grupper.\n",
    "\n",
    "Alle metoderne er det der kaldes ”rekursive algoritmer” der starter med alle individerne, samler i et led indtil alle er placeret og gentager processen indtil X antal klynger er oprettet. Det der er unikt ved rekursive algoritmer er, at de hele tiden opdaterer sig i forhold til hvordan det ser ud efter hver eneste sammenlægning.\n",
    "\n",
    "Der er massere af sammenlægningsformer, men de klassiske er:\n",
    "\n",
    "![linkage](https://drek4537l1klr.cloudfront.net/rhys/v-7/Figures/CH17_FIG_3_MLR.png)"
   ]
  },
  {
   "cell_type": "markdown",
   "metadata": {},
   "source": [
    "# What's the time?\n",
    "![hammer](https://memegenerator.net/img/instances/42340727/stop-big-data-time.jpg)\n",
    "\n",
    "\n",
    "\n",
    "\n",
    "Nu skal vi kigge lidt nærmere på, hvordan vi forholder os til data. Først gør vi to ting, som jeg lover vi forholder os til lidt senere (men bare gør uden at tænke over det lige nu) - vi laver et subset af data i to forskellige dataframes (weird, I know) men vi bruger vores X dataframe til at lave noget finurligt og vi laver en lidt weird ting vi kalder \n",
    "*linked*\n",
    "\n",
    "Linked indeholder et sæt af forhold, der kan sige noget om typer af klynger når vi bruger Wards linkage. "
   ]
  },
  {
   "cell_type": "code",
   "execution_count": 11,
   "metadata": {},
   "outputs": [],
   "source": [
    "X = df[['criminals', 'diffrace', 'leftwings', 'alcoholics', 'rightwings', 'manykids', 'neurotics', 'muslims', 'imigrants', 'aids', 'addicts', 'homoseksuals', 'jews', 'gypsies']]\n",
    "X_1 = df[['criminals', 'diffrace', 'leftwings', 'alcoholics', 'rightwings', 'manykids', 'neurotics', 'muslims', 'imigrants', 'aids', 'addicts', 'homoseksuals', 'jews', 'gypsies']]\n",
    "linked = linkage(X, 'ward')"
   ]
  },
  {
   "cell_type": "markdown",
   "metadata": {},
   "source": [
    "En repræsentation når vi har, forsigtigt, sagt til Python at vi gerne vil kigge på data via Ward ser sådan her ud:"
   ]
  },
  {
   "cell_type": "code",
   "execution_count": 7,
   "metadata": {},
   "outputs": [
    {
     "data": {
      "image/png": "[encoded data removed]",
      "text/plain": [
       "<Figure size 540x360 with 1 Axes>"
      ]
     },
     "metadata": {
      "needs_background": "light"
     },
     "output_type": "display_data"
    }
   ],
   "source": [
    "figure = plt.figure(figsize=(7.5, 5))\n",
    "dendrogram(\n",
    "    linked,\n",
    "    truncate_mode='lastp',\n",
    "    p=20,\n",
    "    leaf_rotation=90.,\n",
    "    leaf_font_size=12.,\n",
    "    show_contracted=True,\n",
    ")\n",
    "plt.title('Hierarchical Clustering Dendrogram (Ward)')\n",
    "plt.xlabel('cluster size)')\n",
    "plt.ylabel('distance')\n",
    "plt.show()"
   ]
  },
  {
   "cell_type": "markdown",
   "metadata": {},
   "source": [
    "Okay, så vi har en nogenlunde idé om, at Ward hjælper os til at reducere kompleksiteten. Men... hvordan vælger vi?\n",
    "\n",
    "Der er voldsomt mange forskellige måder at vælge på - herunder er en måde at teste de tre mest gængse metoder til at finde ud af, hvor mange klynger vi burde vælge."
   ]
  },
  {
   "cell_type": "code",
   "execution_count": 8,
   "metadata": {},
   "outputs": [
    {
     "name": "stdout",
     "output_type": "stream",
     "text": [
      "Cluster count- 2 |  db score- 1.14 |  ch score -  163.87 |  ss score -  0.19\n",
      "Cluster count- 3 |  db score- 1.27 |  ch score -  169.06 |  ss score -  0.22\n",
      "Cluster count- 4 |  db score- 1.7 |  ch score -  151.62 |  ss score -  0.26\n",
      "Cluster count- 5 |  db score- 2.0 |  ch score -  141.16 |  ss score -  0.28\n",
      "Cluster count- 6 |  db score- 2.08 |  ch score -  131.83 |  ss score -  0.31\n",
      "Cluster count- 7 |  db score- 1.91 |  ch score -  124.82 |  ss score -  0.32\n",
      "Cluster count- 8 |  db score- 1.83 |  ch score -  120.28 |  ss score -  0.34\n",
      "Cluster count- 9 |  db score- 1.63 |  ch score -  117.46 |  ss score -  0.35\n",
      "Cluster count- 10 |  db score- 1.59 |  ch score -  113.19 |  ss score -  0.37\n"
     ]
    }
   ],
   "source": [
    "for k in range(2,11):\n",
    "    cluster = AgglomerativeClustering(n_clusters=k, affinity='euclidean', linkage='ward').fit(X)\n",
    "    labels=cluster.labels_\n",
    "    dbs=davies_bouldin_score(X, labels)\n",
    "    dbs=round(dbs,2)\n",
    "    ch = metrics.calinski_harabasz_score(X, labels)\n",
    "    ch=round(ch,2)\n",
    "    ss=metrics.silhouette_score(X, labels, metric='euclidean')\n",
    "    ss=round(ss,2)\n",
    "    print(\"Cluster count-\", k, \"|\", \" db score-\", dbs, \"|\", \" ch score - \", ch, \"|\", \" ss score - \", ss)\n",
    "    k=str(k)\n",
    "    df['cluster'+k]=labels"
   ]
  },
  {
   "cell_type": "markdown",
   "metadata": {},
   "source": [
    "En hurtig husker ift. de forskellige scores:\n",
    "\n",
    "Davies Bouldin Score skal gerne være så lav som muligt\n",
    "Calinski-Harabasz skal gerne være så høj som muligt\n",
    "Silhouette-score går fra -1 til 1 og skal gerne være så høj som muligt"
   ]
  },
  {
   "cell_type": "markdown",
   "metadata": {},
   "source": [
    "Selvom ovenstående kode ser lidt... ubehagelig ud, så er det ikke så slemt. Selve klyngeanalysen kræver ikke mere end:"
   ]
  },
  {
   "cell_type": "code",
   "execution_count": 9,
   "metadata": {},
   "outputs": [],
   "source": [
    "cluster = AgglomerativeClustering(n_clusters=5, affinity='euclidean', linkage='ward').fit(X)\n",
    "labels=cluster.labels_\n",
    "df['cluster']=labels"
   ]
  },
  {
   "cell_type": "markdown",
   "metadata": {},
   "source": [
    "Hvis vi stadig gerne vil udforske lidt, særligt fordi vores scores er lidt weird, så har jeg lavet en lille kode-snippet der fungerer på vores data og giver en bedre ide om, hvad hver klyngetype forsøger at fortælle os. I skal tænke jer selv som Timmy der forsøger at finde ud af, hvad Lassie siger til Jer... bortset fra at Lassie er et stykke Python-kode der har resulteret i nogle forskellige klynger.\n",
    "\n",
    "![lassie](http://www.quickmeme.com/img/9b/9b5278957fb7cc4c74c218e67336089cb5211f488649153377474194f398e8ca.jpg)"
   ]
  },
  {
   "cell_type": "code",
   "execution_count": 10,
   "metadata": {},
   "outputs": [
    {
     "name": "stdout",
     "output_type": "stream",
     "text": [
      "\n",
      "\n",
      "... and the results for 2 clusters are!\n",
      "cluster2              0          1\n",
      "criminals          0.41       0.00\n",
      "diffrace           0.09       0.00\n",
      "leftwings          0.12       0.00\n",
      "alcoholics         0.48       0.00\n",
      "rightwings         0.29       0.00\n",
      "manykids           0.05       0.00\n",
      "neurotics          0.19       0.00\n",
      "muslims            0.22       0.00\n",
      "imigrants          0.14       0.00\n",
      "aids               0.07       0.00\n",
      "addicts            0.80       0.00\n",
      "homoseksuals       0.10       0.00\n",
      "jews               0.03       0.00\n",
      "gypsies            0.20       0.00\n",
      "age               44.66      48.15\n",
      "income        386855.31  380311.02\n",
      "edu                1.68       1.60\n",
      "\n",
      "And the size of the clusters if there are 2 clusters are\n",
      "cluster2\n",
      "0    664\n",
      "1    236\n",
      "Name: id, dtype: int64\n",
      "\n",
      "And if we have 2 clusters, the dendrogram looks like\n"
     ]
    },
    {
     "data": {
      "image/png": "[encoded data removed]",
      "text/plain": [
       "<Figure size 540x360 with 1 Axes>"
      ]
     },
     "metadata": {
      "needs_background": "light"
     },
     "output_type": "display_data"
    },
    {
     "name": "stdout",
     "output_type": "stream",
     "text": [
      "\n",
      "\n",
      "... and the results for 3 clusters are!\n",
      "cluster3              0          1          2\n",
      "criminals          0.37       0.00       0.90\n",
      "diffrace           0.03       0.00       0.94\n",
      "leftwings          0.09       0.00       0.56\n",
      "alcoholics         0.45       0.00       0.90\n",
      "rightwings         0.28       0.00       0.42\n",
      "manykids           0.03       0.00       0.33\n",
      "neurotics          0.17       0.00       0.50\n",
      "muslims            0.16       0.00       0.98\n",
      "imigrants          0.08       0.00       0.96\n",
      "aids               0.05       0.00       0.38\n",
      "addicts            0.79       0.00       0.96\n",
      "homoseksuals       0.07       0.00       0.48\n",
      "jews               0.01       0.00       0.27\n",
      "gypsies            0.16       0.00       0.81\n",
      "age               43.76      48.15      56.21\n",
      "income        394456.21  380311.02  289310.42\n",
      "edu                1.71       1.60       1.35\n",
      "\n",
      "And the size of the clusters if there are 3 clusters are\n",
      "cluster3\n",
      "0    616\n",
      "1    236\n",
      "2     48\n",
      "Name: id, dtype: int64\n",
      "\n",
      "And if we have 3 clusters, the dendrogram looks like\n"
     ]
    },
    {
     "data": {
      "image/png": "[encoded data removed]",
      "text/plain": [
       "<Figure size 540x360 with 1 Axes>"
      ]
     },
     "metadata": {
      "needs_background": "light"
     },
     "output_type": "display_data"
    },
    {
     "name": "stdout",
     "output_type": "stream",
     "text": [
      "\n",
      "\n",
      "... and the results for 4 clusters are!\n",
      "cluster4              0          1          2          3\n",
      "criminals          0.41       0.23       0.90       0.00\n",
      "diffrace           0.04       0.00       0.94       0.00\n",
      "leftwings          0.04       0.26       0.56       0.00\n",
      "alcoholics         0.50       0.28       0.90       0.00\n",
      "rightwings         0.11       0.94       0.42       0.00\n",
      "manykids           0.03       0.02       0.33       0.00\n",
      "neurotics          0.21       0.00       0.50       0.00\n",
      "muslims            0.19       0.02       0.98       0.00\n",
      "imigrants          0.09       0.02       0.96       0.00\n",
      "aids               0.06       0.00       0.38       0.00\n",
      "addicts            0.82       0.69       0.96       0.00\n",
      "homoseksuals       0.09       0.00       0.48       0.00\n",
      "jews               0.02       0.00       0.27       0.00\n",
      "gypsies            0.18       0.05       0.81       0.00\n",
      "age               44.56      40.66      56.21      48.15\n",
      "income        393295.37  399016.00  289310.42  380311.02\n",
      "edu                1.61       2.09       1.35       1.60\n",
      "\n",
      "And the size of the clusters if there are 4 clusters are\n",
      "cluster4\n",
      "0    491\n",
      "1    125\n",
      "2     48\n",
      "3    236\n",
      "Name: id, dtype: int64\n",
      "\n",
      "And if we have 4 clusters, the dendrogram looks like\n"
     ]
    },
    {
     "data": {
      "image/png": "[encoded data removed]",
      "text/plain": [
       "<Figure size 540x360 with 1 Axes>"
      ]
     },
     "metadata": {
      "needs_background": "light"
     },
     "output_type": "display_data"
    },
    {
     "name": "stdout",
     "output_type": "stream",
     "text": [
      "\n",
      "\n",
      "... and the results for 5 clusters are!\n",
      "cluster5              0          1          2          3          4\n",
      "criminals          0.25       0.87       0.90       0.00       0.23\n",
      "diffrace           0.04       0.03       0.94       0.00       0.00\n",
      "leftwings          0.03       0.09       0.56       0.00       0.26\n",
      "alcoholics         0.37       0.86       0.90       0.00       0.28\n",
      "rightwings         0.11       0.09       0.42       0.00       0.94\n",
      "manykids           0.03       0.02       0.33       0.00       0.02\n",
      "neurotics          0.18       0.29       0.50       0.00       0.00\n",
      "muslims            0.15       0.30       0.98       0.00       0.02\n",
      "imigrants          0.09       0.11       0.96       0.00       0.02\n",
      "aids               0.02       0.18       0.38       0.00       0.00\n",
      "addicts            0.76       0.97       0.96       0.00       0.69\n",
      "homoseksuals       0.03       0.27       0.48       0.00       0.00\n",
      "jews               0.02       0.02       0.27       0.00       0.00\n",
      "gypsies            0.19       0.17       0.81       0.00       0.05\n",
      "age               43.21      48.38      56.21      48.15      40.66\n",
      "income        397316.74  381891.02  289310.42  380311.02  399016.00\n",
      "edu                1.67       1.44       1.35       1.60       2.09\n",
      "\n",
      "And the size of the clusters if there are 5 clusters are\n",
      "cluster5\n",
      "0    363\n",
      "1    128\n",
      "2     48\n",
      "3    236\n",
      "4    125\n",
      "Name: id, dtype: int64\n",
      "\n",
      "And if we have 5 clusters, the dendrogram looks like\n"
     ]
    },
    {
     "data": {
      "image/png": "[encoded data removed]",
      "text/plain": [
       "<Figure size 540x360 with 1 Axes>"
      ]
     },
     "metadata": {
      "needs_background": "light"
     },
     "output_type": "display_data"
    }
   ],
   "source": [
    "for i in range(2,6):\n",
    "    i=str(i)\n",
    "    X_1=df[['cluster'+i,'criminals', 'diffrace', 'leftwings', 'alcoholics', 'rightwings', 'manykids', 'neurotics', 'muslims', 'imigrants', 'aids', 'addicts', 'homoseksuals', 'jews', 'gypsies', 'age', 'income', 'edu']]\n",
    "    stuff=X_1.groupby(['cluster'+i]).mean()\n",
    "    trans_stuff=stuff.T\n",
    "    ts=round(trans_stuff,2)\n",
    "    print(\"\")\n",
    "    print(\"\")\n",
    "    print('... and the results for' ,i, 'clusters are!')\t\n",
    "    print(ts)\n",
    "    print(\"\")\n",
    "    count=df.groupby(['cluster'+i])['id'].count()\n",
    "    print(\"And the size of the clusters if there are\",i, \"clusters are\")\n",
    "    print(count)\n",
    "    print(\"\")\n",
    "    print(\"And if we have\",i,\"clusters, the dendrogram looks like\")\n",
    "    i=int(i)\n",
    "    figure = plt.figure(figsize=(7.5, 5))\n",
    "    dendrogram(\n",
    "            linked,\n",
    "        truncate_mode='lastp',  # show only the last p merged clusters\n",
    "        p=i,  # show only the last p merged clusters\n",
    "        leaf_rotation=90.,\n",
    "        leaf_font_size=12.,\n",
    "        show_contracted=True,  # to get a distribution impression in truncated branches\n",
    "    )\n",
    "    plt.title('Hierarchical Clustering Dendrogram (Ward)')\n",
    "    plt.xlabel('sample index or (cluster size)')\n",
    "    plt.ylabel('distance')\n",
    "    plt.show()"
   ]
  },
  {
   "cell_type": "markdown",
   "metadata": {},
   "source": [
    "# Lang øvelse - you get to play!\n",
    "\n",
    "Jeg har lavet et udtræk af værdiundersøgelsen med langt flere variable. Listen er nedenfor. Hvis ikke i kan læse skidtet her er listen også via følgende link:\n",
    "\n",
    "https://www.dropbox.com/s/lc5go3nbi7tk07u/varlist.png?dl=0\n",
    "\n",
    "Og i kan finde data her: https://github.com/RolfLund/DDF/raw/main/value99.csv\n",
    "\n",
    "Alle variable er kodet sådan, at jo mere den ting der bliver spurgt om, jo mere mod 1 er det. 1 er derfor altid meget enig, ja eller mest af den ting de siger. Variable der er dikotome (1/2) er altid 1 for enig og to for uenig. Variable der er 1 til 5 gradueres sådan, at meget enig er 1 mens 5 er meget uenig i det udsagn der står.\n",
    "\n",
    "Som eksempel: \"Ønsker ikke drankere som nabo\" --> 1=ønsker ikke, 2=ligeglad\n",
    "\n",
    "Eller: Tillid til forsvaret --> 1=Meget stor tillid, 2= ret stor tillid, 3=Ikke ret stor tillid, 4=slet ingen tillid "
   ]
  },
  {
   "cell_type": "markdown",
   "metadata": {},
   "source": [
    "[![2hAEhX.md.png](https://iili.io/2hAEhX.md.png)](https://freeimage.host/i/2hAEhX)"
   ]
  },
  {
   "cell_type": "markdown",
   "metadata": {},
   "source": [
    "Bemærk, jeres opgave er at udvælge noget i er interesseret i og forsøge at lave nogle klynger på baggrund af jeres udvalgte variable.\n",
    "\n",
    "Når i har lavet selve klyngeanalysen skal i forholde jer til, hvad det er for nogle klynger vi har lavet. Først;\n",
    "- Hvad har de svaret i de ting klyngerne er baseret på?\n",
    "- Giver det mening?\n",
    "\n",
    "Dernæst:\n",
    "- Brug andre variable til at forklare hvad det er der foregår. Hvad er gennemsnitsalderen? Er der skævhed i kønsfordeling? Kan vi sige noget interessant om dem ellers?"
   ]
  }
 ],
 "metadata": {
  "kernelspec": {
   "display_name": "Python 3",
   "language": "python",
   "name": "python3"
  },
  "language_info": {
   "codemirror_mode": {
    "name": "ipython",
    "version": 3
   },
   "file_extension": ".py",
   "mimetype": "text/x-python",
   "name": "python",
   "nbconvert_exporter": "python",
   "pygments_lexer": "ipython3",
   "version": "3.7.4"
  }
 },
 "nbformat": 4,
 "nbformat_minor": 4
}
